{
  "nbformat": 4,
  "nbformat_minor": 0,
  "metadata": {
    "colab": {
      "name": "Learn Python Week 3.ipynb",
      "provenance": [],
      "collapsed_sections": [],
      "include_colab_link": true
    },
    "kernelspec": {
      "name": "python3",
      "display_name": "Python 3"
    }
  },
  "cells": [
    {
      "cell_type": "markdown",
      "metadata": {
        "id": "view-in-github",
        "colab_type": "text"
      },
      "source": [
        "<a href=\"https://colab.research.google.com/github/jz042/Coursera-Python-1/blob/master/Learn_Python_Week_3.ipynb\" target=\"_parent\"><img src=\"https://colab.research.google.com/assets/colab-badge.svg\" alt=\"Open In Colab\"/></a>"
      ]
    },
    {
      "cell_type": "markdown",
      "metadata": {
        "id": "trnbnHHjqLGv",
        "colab_type": "text"
      },
      "source": [
        "# Tuples, Sets, Frozensets, and Intro to Data Structures\n",
        "\n",
        "> Welcome back!\n",
        "\n",
        "### Overview\n",
        "1. Review of last month's project\n",
        "2. Jupyter Notebook walkthough: concepts and code snippets\n",
        "3. Fill in the blank code snippets\n",
        "4. Project - write code from a specification and test it to ensure functionality\n",
        "\n",
        "\n",
        "A note about Jupyter notebooks: the code cells must be run in order, and the output should appear below.  Any code cell that contains text preceded by a # is a comment, and will not run.  It is intended to provide context.  You may find it useful to insert comments to yourself as you go, so you don't lose track of what you're working on.\n",
        "\n",
        "\n"
      ]
    },
    {
      "cell_type": "markdown",
      "metadata": {
        "id": "RUwV4Qc5ywJK",
        "colab_type": "text"
      },
      "source": [
        "## Last Month...\n",
        "## Create a program that reads a csv file of phone book entries into a dictionary\n",
        "\n",
        "### \n",
        "\n",
        "\n",
        "#### Dictionaries\n",
        "Remember that last month we discussed how dictionaries work - they are a series of key-value pairs.  We need to read in the file, and then set the key as the name, and the value as the phone number.  We also need to handle errors, including names that are not in the phone book\n",
        "\n",
        "#### Functions\n",
        "**Functions** - blocks of code that perform a specific task\n",
        "\n",
        "the syntax for a function is as follows:\n",
        "1. the `def` keyword to indicate that you are defining a new function\n",
        "2. the name of the function - can be whatever you want, but should be descriptive about the functionality \n",
        "3. the parameters, inside parenthesis.  Conventionally, the first paramenter is `self`, followed by any other objects that the function needs to know about\n",
        "4. a colon to end the opening statement\n",
        "5. a triple-quote string, or doc string, that explains what the function does in plain English\n",
        "6. an indented block of code that uses statements and control flow as necessary for the functionality\n",
        "\n"
      ]
    },
    {
      "cell_type": "code",
      "metadata": {
        "colab_type": "code",
        "outputId": "0983c516-11ca-4f54-ad66-1eee93c2d260",
        "id": "jrlfdqSfunkl",
        "colab": {
          "base_uri": "https://localhost:8080/",
          "height": 34
        }
      },
      "source": [
        "import csv\n",
        "test_name = \"Angel\"\n",
        "file_name = 'phonebook.csv'\n",
        "\n",
        "def read_write_file(filename):\n",
        "    \"\"\"function to read in a csv file and create a dictionary with the contents\"\"\"\n",
        "    reader = csv.reader(open(filename, 'r'))\n",
        "    d = {}\n",
        "    for key, value in reader:\n",
        "        d[key] = value\n",
        "    return d\n",
        "\n",
        "def verify_read_write_file():\n",
        "  \"\"\"function to make sure that the csv reader works\"\"\"\n",
        "  phone_book = read_write_file(file_name)\n",
        "  if test_name in phone_book:\n",
        "    print(test_name, phone_book[test_name])\n",
        "  else:\n",
        "    print(\"Name not found.\")\n",
        "\n",
        "verify_read_write_file()"
      ],
      "execution_count": 0,
      "outputs": [
        {
          "output_type": "stream",
          "text": [
            "Name not found.\n"
          ],
          "name": "stdout"
        }
      ]
    },
    {
      "cell_type": "markdown",
      "metadata": {
        "id": "hRdZ0X77YC_p",
        "colab_type": "text"
      },
      "source": [
        "## Tuples\n",
        "\n",
        "We've already discussed Strings, Dictionaries, and Lists.  Tuples are immutable sequences.  \n",
        "#### Jargon check\n",
        "**Sequence** - An ordered series of elements, which have some unique associated functions.  In Python, sequences include:\n",
        "* Strings - a series of characters, enclosed in quoteation marks\n",
        "* Lists - mutable series of any object type. Separated by commas, and declared with square brackets\n",
        "* Tuples - immutable structure of elements of any type. Separated by commas, and declared with parentheses. \n",
        "\n"
      ]
    },
    {
      "cell_type": "code",
      "metadata": {
        "id": "ERVCE_X_qGVB",
        "colab_type": "code",
        "outputId": "46c1b71c-6f53-4bf4-e7a4-e75380a79fc5",
        "colab": {
          "base_uri": "https://localhost:8080/",
          "height": 34
        }
      },
      "source": [
        "tuple_example = (1, 2, 3)\n",
        "print(tuple_example)"
      ],
      "execution_count": 0,
      "outputs": [
        {
          "output_type": "stream",
          "text": [
            "(1, 2, 3)\n"
          ],
          "name": "stdout"
        }
      ]
    },
    {
      "cell_type": "markdown",
      "metadata": {
        "id": "aT-_oZ8mGNat",
        "colab_type": "text"
      },
      "source": [
        "#### Sequence Functions and Functionality\n",
        "Remember that we can use the same functions we learned about in relation to Strings and Lists in order to handle tuples.  We can use indexing and slicing, as well. \n",
        "\n"
      ]
    },
    {
      "cell_type": "code",
      "metadata": {
        "id": "4i6JkYMAGlcZ",
        "colab_type": "code",
        "outputId": "d87ee909-9134-4e0f-e346-52048ab62c0b",
        "colab": {
          "base_uri": "https://localhost:8080/",
          "height": 34
        }
      },
      "source": [
        "len(tuple_example)"
      ],
      "execution_count": 0,
      "outputs": [
        {
          "output_type": "execute_result",
          "data": {
            "text/plain": [
              "3"
            ]
          },
          "metadata": {
            "tags": []
          },
          "execution_count": 9
        }
      ]
    },
    {
      "cell_type": "markdown",
      "metadata": {
        "id": "C-zKsF2hEG6L",
        "colab_type": "text"
      },
      "source": [
        "#### First Code Challenge:\n",
        "**Indexing** - using the numbered index of an element of a sequence to specifically handle that element \n",
        "\n",
        "sequence_name[index_integer]\n",
        "\n",
        "**Slicing** - using the numbered index of one or more elements of a sequence to pull only those elements, while maintaining their order.\n",
        "\n",
        "sequence_name[first_index:second_index]*italicized text*"
      ]
    },
    {
      "cell_type": "code",
      "metadata": {
        "id": "c8ms0vMxHCCV",
        "colab_type": "code",
        "colab": {}
      },
      "source": [
        "# Using the example above, create a tuple that is at least 5 elements long.  Print out the last element in the tuple, \n",
        "# then slice the tuple to print every element but the first and last"
      ],
      "execution_count": 0,
      "outputs": []
    },
    {
      "cell_type": "markdown",
      "metadata": {
        "id": "h0GCBT39HT5t",
        "colab_type": "text"
      },
      "source": [
        "#### Built-in Functions for Tuples:\n",
        "* tuple_name.count('')\n",
        "* tuple_name.index('')"
      ]
    },
    {
      "cell_type": "code",
      "metadata": {
        "id": "Jj1mqDmhJj4f",
        "colab_type": "code",
        "outputId": "6ff68040-c35a-4ffe-cf28-0885c318df71",
        "colab": {
          "base_uri": "https://localhost:8080/",
          "height": 34
        }
      },
      "source": [
        "tuple_example.index(1)"
      ],
      "execution_count": 0,
      "outputs": [
        {
          "output_type": "execute_result",
          "data": {
            "text/plain": [
              "1"
            ]
          },
          "metadata": {
            "tags": []
          },
          "execution_count": 12
        }
      ]
    },
    {
      "cell_type": "code",
      "metadata": {
        "id": "4RQ47gvwGOGT",
        "colab_type": "code",
        "outputId": "979ad7a1-4224-414a-8dcb-ad1c068f1b61",
        "colab": {
          "base_uri": "https://localhost:8080/",
          "height": 34
        }
      },
      "source": [
        "tuple_example.count(1)"
      ],
      "execution_count": 0,
      "outputs": [
        {
          "output_type": "execute_result",
          "data": {
            "text/plain": [
              "1"
            ]
          },
          "metadata": {
            "tags": []
          },
          "execution_count": 13
        }
      ]
    },
    {
      "cell_type": "markdown",
      "metadata": {
        "id": "KTCbm6UqGSKi",
        "colab_type": "text"
      },
      "source": [
        "#### Concept check: Immutability\n",
        "If we wanted to add an element to the tuple using the .append method, what would happen?  Answer before you run the code below."
      ]
    },
    {
      "cell_type": "code",
      "metadata": {
        "id": "kpx5TYTpuciO",
        "colab_type": "code",
        "colab": {}
      },
      "source": [
        "tuple_example.append('appended')"
      ],
      "execution_count": 0,
      "outputs": []
    },
    {
      "cell_type": "markdown",
      "metadata": {
        "id": "obHpnfL9HKPC",
        "colab_type": "text"
      },
      "source": [
        "## Sets\n",
        "Sets are mutable, unordered collections of unique elements, and they are constructed a bit differently than other types we have discussed.  "
      ]
    },
    {
      "cell_type": "code",
      "metadata": {
        "id": "QAyAm04zum42",
        "colab_type": "code",
        "colab": {}
      },
      "source": [
        "my_set = set()"
      ],
      "execution_count": 0,
      "outputs": []
    },
    {
      "cell_type": "code",
      "metadata": {
        "id": "I5h5V0Lwuq2j",
        "colab_type": "code",
        "colab": {}
      },
      "source": [
        "my_set.add(15)"
      ],
      "execution_count": 0,
      "outputs": []
    },
    {
      "cell_type": "code",
      "metadata": {
        "id": "cO_ronJxIyRh",
        "colab_type": "code",
        "colab": {}
      },
      "source": [
        "my_set.add(2)"
      ],
      "execution_count": 0,
      "outputs": []
    },
    {
      "cell_type": "code",
      "metadata": {
        "id": "aIPlRjj7u1a2",
        "colab_type": "code",
        "colab": {}
      },
      "source": [
        "my_set"
      ],
      "execution_count": 0,
      "outputs": []
    },
    {
      "cell_type": "markdown",
      "metadata": {
        "id": "nOWwg_E5JRGt",
        "colab_type": "text"
      },
      "source": [
        "#### Code Challenge"
      ]
    },
    {
      "cell_type": "code",
      "metadata": {
        "id": "hxZvYvqYvVuL",
        "colab_type": "code",
        "colab": {}
      },
      "source": [
        "# try to add 3 more elements to the set.  Then, see what happens when you try to add a duplicative element to the set"
      ],
      "execution_count": 0,
      "outputs": []
    },
    {
      "cell_type": "markdown",
      "metadata": {
        "id": "PrmlRE3lJxxa",
        "colab_type": "text"
      },
      "source": [
        "##### Unique applications of sets:\n",
        "It's possible to use type conversion among data types.  For instance, one useful application of type conversion to to convert from a list to a set, in order to identify the unique values.\n",
        "\n",
        "**type conversion** - the process of converting the value of one data type to another\n",
        "new_value_name = data_type(object_name)"
      ]
    },
    {
      "cell_type": "code",
      "metadata": {
        "id": "mZtekhievbdj",
        "colab_type": "code",
        "outputId": "5775211e-8264-4197-8875-24291482cda4",
        "colab": {
          "base_uri": "https://localhost:8080/",
          "height": 34
        }
      },
      "source": [
        "my_long_list = [67998765, 67998765, 98769855, 98769006, 67998765, 987665545, 986545754, 67998765, 98769006, 986545754]\n",
        "# use a type conversion of the list above to create a set, and then print the set"
      ],
      "execution_count": 0,
      "outputs": [
        {
          "output_type": "execute_result",
          "data": {
            "text/plain": [
              "100"
            ]
          },
          "metadata": {
            "tags": []
          },
          "execution_count": 30
        }
      ]
    },
    {
      "cell_type": "markdown",
      "metadata": {
        "id": "4KEzbTghOt71",
        "colab_type": "text"
      },
      "source": [
        "#### Frozensets\n",
        "An immutable type of set that can contain other sets.  Some of the associated functions may be familiar concepts if you work with databases:\n",
        "\n",
        "* union()\n",
        "* issubset()\n",
        "* intersection()\n"
      ]
    },
    {
      "cell_type": "code",
      "metadata": {
        "id": "EYk94noZTCgu",
        "colab_type": "code",
        "colab": {}
      },
      "source": [
        "my_frozenset = frozenset([1, 2, 3, 4])"
      ],
      "execution_count": 0,
      "outputs": []
    },
    {
      "cell_type": "markdown",
      "metadata": {
        "id": "pmD9ZFsiJnTq",
        "colab_type": "text"
      },
      "source": [
        "### Built-in Data Types\n",
        "Now, we've covered all of the built in data structures in Python:\n",
        "##### Sequences:\n",
        "* Lists\n",
        "* Tuples\n",
        "* Strings\n",
        "\n",
        "##### Mappings:\n",
        "* Dictionaries\n",
        "\n",
        "##### Sets:\n",
        "* Sets\n",
        "* Frozensets\n",
        "\n",
        "These built-in data structures are fundamental to much of the data management and manipulation we will do in Python.  The basic operations we will do on data structures can be described in 4 basic methods:\n",
        "##### Data Structure Operations\n",
        "1. **Read** - Look up a particular location in a data structure(i.e., read the element at the given index of a list)\n",
        "2. **Search** - find a particular value in a data structure\n",
        "3. **Insert** - add a value to the data structure\n",
        "4. **Delete** - remove a value from the data structure\n",
        "\n",
        "##### Jargon Check\n",
        "**Mapping** - a data structure that stores a value for an index, instead of an integer.\n",
        "**data structures** - how data is organized and stored. \n",
        "\n",
        "**objects** - all of the data types we have discussed are objects, which have a type, a value, and an identity:\n",
        "\n",
        "`my_string = \"hello\"`\n",
        "\n",
        "this object is of *type* String, and has a *value* of hello, and an *identity* of my_string\n",
        "\n",
        "All objects are either mutable or immutable.\n",
        "\n",
        "**mutable** - an object that can be changed\n",
        "**immutable** - an object that, once created, cannot be altered\n",
        "\n",
        "\n",
        "When you are faced with a problem you need to solve programmatically, the data structure you choose can impact how effectively your code will run."
      ]
    },
    {
      "cell_type": "markdown",
      "metadata": {
        "id": "CL2OYRAuDJUQ",
        "colab_type": "text"
      },
      "source": [
        "#### Data Structures and Algorithms\n",
        "In addition to the built-in data structures that we know, there are internal and external libraries that expand the functionality we can implement.  Since there are many ways to implement the same functionality, we will measure the success of our data structures in terms of the algorithms they are implemented with, which in essnece is how many steps the given task will take.  Time, measured in miliseconds or seconds, becomes a less valuable metric given that it is highly dependant upon the hardware used.  The most efficient data structure and fastest algorithm will run more slowly in terms of time on an old machine than it would on the latest cloud computing instance.\n",
        "\n",
        "For tonight, we're going to focus on how the 4 types of operations look when applied to a list.\n",
        "\n",
        "#### The 4 operations and Lists\n",
        "Let's say that we have a list of elements called fruits.\n",
        "\n"
      ]
    },
    {
      "cell_type": "code",
      "metadata": {
        "id": "RXfxwagFgrKt",
        "colab_type": "code",
        "colab": {}
      },
      "source": [
        "fruits = ['orange', 'apple', 'pear', 'banana', 'kiwi', 'apple', 'banana']"
      ],
      "execution_count": 0,
      "outputs": []
    },
    {
      "cell_type": "markdown",
      "metadata": {
        "id": "QBU-5EqqjUKY",
        "colab_type": "text"
      },
      "source": [
        "#### Reading\n",
        "According to our definition, we need to access what value is contained at a particular index.  This is something we've seen before!  Code the solution below to access 'kiwi' from the fruits list."
      ]
    },
    {
      "cell_type": "code",
      "metadata": {
        "id": "S3caSw4PjrGh",
        "colab_type": "code",
        "colab": {}
      },
      "source": [
        "# input your solution here to find 'kiwi'"
      ],
      "execution_count": 0,
      "outputs": []
    },
    {
      "cell_type": "markdown",
      "metadata": {
        "id": "ha0QVt2ojx-S",
        "colab_type": "text"
      },
      "source": [
        "For a list, the read operation takes just one step.  If you're interested, this is because of the way that the computer allocates memory for lists.  But, for our purposes, what is significant is that we can tell the computer the value's index, and it can jump to retrieve that value in just one step.  That's very efficient, and it's one of the strenghts of the list data structure.  "
      ]
    },
    {
      "cell_type": "markdown",
      "metadata": {
        "id": "OlZyFCHJkwnY",
        "colab_type": "text"
      },
      "source": [
        "#### Searching\n",
        "Again, remembering our definition, we need to find out if a value exists in a list, and if so, that value's index so that we can retrieve it.  \n",
        "\n",
        "Given what we know about lists, and using control flow to iterate over every element in a list, can you figure out how to determine the index of 'pear' from our fruits list?"
      ]
    },
    {
      "cell_type": "code",
      "metadata": {
        "id": "0iv5ZQBilK6Z",
        "colab_type": "code",
        "colab": {}
      },
      "source": [
        "# input your code here - hint - remember the function we wrote to print out each \n",
        "# element from a list?\n"
      ],
      "execution_count": 0,
      "outputs": []
    },
    {
      "cell_type": "markdown",
      "metadata": {
        "id": "STsh6MOElmdd",
        "colab_type": "text"
      },
      "source": [
        "We have just implemented a basic linear search algorithm.  We start at index 0 of the list, and iterate over each element until we find the desired value.  Then, we stop and return the index of that value.  Each element that we check counts as one step, so searching our list this way could take a long time, depending on the position of the value and the length of the list!  Often, this concept will be seen written as:\n",
        "\n",
        "> for an array with N number of elements, a linear search will take N steps."
      ]
    },
    {
      "cell_type": "markdown",
      "metadata": {
        "id": "LgHPEekzmO1a",
        "colab_type": "text"
      },
      "source": [
        "#### Insertion\n",
        "The effeciency of inserting an element into a list depends heavily on where in the list we want the new element to go.  Appending an element to the end of a list is easy, and there is a built-in function to do that!\n"
      ]
    },
    {
      "cell_type": "code",
      "metadata": {
        "id": "whWGccgAmnnG",
        "colab_type": "code",
        "colab": {}
      },
      "source": [
        "fruits.append('clementine')"
      ],
      "execution_count": 0,
      "outputs": []
    },
    {
      "cell_type": "markdown",
      "metadata": {
        "id": "_lKR_8IImz_l",
        "colab_type": "text"
      },
      "source": [
        "If we want the new element to go to the front, or the middle of the list, that will be a bit more challenging.  To do that, we need to move every element to the right of our desired index over one spot, starting from the last element.\n",
        "\n",
        "Let's say that we want to add `grapefruit` as the second element of the list. How many steps would that take?\n",
        "\n",
        "Because this is a common operation, the built-in insertion function exists to insert the element at the specified index."
      ]
    },
    {
      "cell_type": "code",
      "metadata": {
        "id": "GTX_JppnnwLy",
        "colab_type": "code",
        "colab": {}
      },
      "source": [
        "fruits.insert(2, 'grapefruit')"
      ],
      "execution_count": 0,
      "outputs": []
    },
    {
      "cell_type": "markdown",
      "metadata": {
        "id": "yS5wS9TEn3Rr",
        "colab_type": "text"
      },
      "source": [
        "#### Deletion\n",
        "\n",
        "Depending on the index of the value, deletion can actually have two parts:\n",
        "1. delete the value from the array\n",
        "2. shift the remaining elements to fill the gap.\n",
        "\n",
        "note that each element shifted counts as a step!\n",
        "\n",
        "Given that, which element is the easiest to delete from the list? which element is the most difficult to delete?\n",
        "\n",
        "Again, this is a very common operation, so Python comes with a few options to remove a list element that we've discussed before.  The `remove` function deletes an element by value, while the `del` function deletes an element by its index."
      ]
    },
    {
      "cell_type": "code",
      "metadata": {
        "id": "0dThcnvnonn5",
        "colab_type": "code",
        "colab": {}
      },
      "source": [
        "# remove the last banana element from the fruits list, and then delete the first element"
      ],
      "execution_count": 0,
      "outputs": []
    },
    {
      "cell_type": "markdown",
      "metadata": {
        "id": "XnYsffTepNI8",
        "colab_type": "text"
      },
      "source": [
        "#### Coding time!\n",
        "These are foundational concepts for computer science - how do you store your data, and how do you best perform the four basic types of operations on that data?  Many books have been written on the subject, and we'll continue to discuss them as we learn.  For now, make sure you are comfortable with the features of each data structure, and understand how the number of steps it takes to complete different operations on different data structures can effect the **time complexity**, which is the term given to the amount of time it takes your steps to execute.  This is NOT the same as the amount of real time (in miliseconds or seconds) it takes the code to execute."
      ]
    },
    {
      "cell_type": "code",
      "metadata": {
        "id": "7xA6kBQxqYAU",
        "colab_type": "code",
        "colab": {}
      },
      "source": [
        "# Given the original list of fruits, use a type conversion method to make sure\n",
        "# it contains only unique values"
      ],
      "execution_count": 0,
      "outputs": []
    },
    {
      "cell_type": "code",
      "metadata": {
        "id": "lHc8Ne9Q2W57",
        "colab_type": "code",
        "colab": {}
      },
      "source": [
        "# Write a function that accepts a list and a number, the element at index n.\n",
        "# Once that's working, modify the function to return all elements\n",
        "# from the given number to the end of the list.\n",
        "# challenge adapted from Python Morsels"
      ],
      "execution_count": 0,
      "outputs": []
    },
    {
      "cell_type": "code",
      "metadata": {
        "id": "3xjGiGvfK110",
        "colab_type": "code",
        "colab": {}
      },
      "source": [
        "# Write a function that accepts a string and returns a dictionary of words as the keys, and the number of times each word appeared\n",
        "# as a value.  Make sure that the mapping works with words reardless of case, and handle punctuation.\n",
        "# challenge from Python Morsels\n",
        "# Hint - write iteratively - first write the basic functionality, then augment\n",
        "# If natural language processing is interesting to you, check out the NLTK library and documentation"
      ],
      "execution_count": 0,
      "outputs": []
    },
    {
      "cell_type": "code",
      "metadata": {
        "id": "_yg9kuFrYyKa",
        "colab_type": "code",
        "colab": {}
      },
      "source": [
        ""
      ],
      "execution_count": 0,
      "outputs": []
    },
    {
      "cell_type": "markdown",
      "metadata": {
        "id": "RYMUP_-AYz2_",
        "colab_type": "text"
      },
      "source": [
        "## Project Challenge:\n",
        "### From Automate the Boring Stuff with Python, [Chapter 5](https://automatetheboringstuff.com/2e/chapter5/)\n",
        "##### Fantasy Game Inventory\n",
        "You are creating a fantasy video game. The data structure to model the player’s inventory will be a dictionary where the keys are string values describing the item in the inventory and the value is an integer value detailing how many of that item the player has. For example, the dictionary value: \n",
        "\n",
        "`{'rope': 1, 'torch': 6, 'gold coin': 42, 'dagger': 1, 'arrow': 12}` \n",
        "means the player has 1 rope, 6 torches, 42 gold coins, and so on.\n",
        "\n",
        "Write a function named displayInventory() that would take any possible “inventory” and display it like the following:\n",
        "\n",
        "Inventory:\n",
        "12 arrow\n",
        "42 gold coin\n",
        "1 rope\n",
        "6 torch\n",
        "1 dagger\n",
        "Total number of items: 62\n",
        "\n",
        "Hint: You can use a for loop to loop through all the keys in a dictionary.  (We aren't worried about the efficiency of accessing the dictionary at this point, we just want to accomplish the task!)\n"
      ]
    },
    {
      "cell_type": "code",
      "metadata": {
        "id": "t_-dicD7rxS_",
        "colab_type": "code",
        "colab": {}
      },
      "source": [
        "# inventory.py\n",
        "stuff = {'rope': 1, 'torch': 6, 'gold coin': 42, 'dagger': 1, 'arrow': 12}\n",
        "\n",
        "def displayInventory(inventory):\n",
        "    print(\"Inventory:\")\n",
        "    item_total = 0\n",
        "    for k, v in inventory.items():\n",
        "        # FILL THIS PART IN\n",
        "    print(\"Total number of items: \" + str(item_total))\n",
        "\n",
        "displayInventory(stuff)`"
      ],
      "execution_count": 0,
      "outputs": []
    },
    {
      "cell_type": "markdown",
      "metadata": {
        "id": "g5bkF80OrzvB",
        "colab_type": "text"
      },
      "source": [
        "### If you need more of a challenge...\n",
        "##### List to Dictionary Function for Fantasy Game Inventory\n",
        "Imagine that a vanquished dragon’s loot is represented as a list of strings like this:\n",
        "\n",
        "`dragonLoot = ['gold coin', 'dagger', 'gold coin', 'gold coin', 'ruby']`\n",
        "\n",
        "Write a function named addToInventory(inventory, addedItems), where the inventory parameter is a dictionary representing the player’s inventory (like in the previous project) and the addedItems parameter is a list like dragonLoot. The addToInventory() function should return a dictionary that represents the updated inventory. Note that the addedItems list can contain multiples of the same item. Your code could look something like this:"
      ]
    },
    {
      "cell_type": "code",
      "metadata": {
        "id": "aEq50ObzsRNW",
        "colab_type": "code",
        "colab": {}
      },
      "source": [
        "def addToInventory(inventory, addedItems):\n",
        "    # your code goes here\n",
        "\n",
        "# inv = {'gold coin': 42, 'rope': 1}\n",
        "# dragonLoot = ['gold coin', 'dagger', 'gold coin', 'gold coin', 'ruby']\n",
        "# inv = addToInventory(inv, dragonLoot)\n",
        "# displayInventory(inv)"
      ],
      "execution_count": 0,
      "outputs": []
    },
    {
      "cell_type": "markdown",
      "metadata": {
        "id": "oMKiaicKsaCs",
        "colab_type": "text"
      },
      "source": [
        "The previous program (with your displayInventory() function from the previous project) would output the following:\n",
        "\n",
        "Inventory:\n",
        "45 gold coin\n",
        "1 rope\n",
        "1 ruby\n",
        "1 dagger\n",
        "\n",
        "Total number of items: 48"
      ]
    },
    {
      "cell_type": "markdown",
      "metadata": {
        "id": "Q1W5Yb1Lsnov",
        "colab_type": "text"
      },
      "source": [
        "\n",
        "\n",
        "## Next month: Object oriented programming and using external libraries to access the web\n",
        "\n",
        "from [Python 4 Everybody](http://do1.dr-chuck.com/pythonlearn/EN_us/pythonlearn.pdf), read Chapters 10, 12, and 13\n",
        "\n",
        "for more on [natural language processing](http://www.nltk.org/book/)\n",
        "\n",
        "for free help on data structures and [algorithms](https://www.udemy.com/course/introduction-to-data-structures/?LSNPUBID=JVFxdTr9V80&ranEAID=JVFxdTr9V80&ranMID=39197&ranSiteID=JVFxdTr9V80-LCuQWCTD6rqvtER5HU7VAw)\n",
        "\n"
      ]
    }
  ]
}