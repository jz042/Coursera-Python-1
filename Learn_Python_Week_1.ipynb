{
  "nbformat": 4,
  "nbformat_minor": 0,
  "metadata": {
    "colab": {
      "name": "Learn Python Week 1.ipynb",
      "provenance": [],
      "collapsed_sections": [
        "umAlvBoLqZbZ",
        "EYDEL1gSzr7r"
      ],
      "toc_visible": true,
      "include_colab_link": true
    },
    "kernelspec": {
      "name": "python3",
      "display_name": "Python 3"
    }
  },
  "cells": [
    {
      "cell_type": "markdown",
      "metadata": {
        "id": "view-in-github",
        "colab_type": "text"
      },
      "source": [
        "<a href=\"https://colab.research.google.com/github/jz042/Coursera-Python-1/blob/master/Learn_Python_Week_1.ipynb\" target=\"_parent\"><img src=\"https://colab.research.google.com/assets/colab-badge.svg\" alt=\"Open In Colab\"/></a>"
      ]
    },
    {
      "cell_type": "markdown",
      "metadata": {
        "id": "trnbnHHjqLGv",
        "colab_type": "text"
      },
      "source": [
        "# Variables, Statements, Expressions, and Conditions\n",
        "### Overview\n",
        "1. Jupyter Notebook walkthough: concepts and code snippets\n",
        "\n",
        "2. Fill in the blank code snippets\n",
        "3. This month's project challenge\n",
        "\n",
        "A note about Jupyter notebooks: the code cells must be run in order, and the output should appear below.  Any code cell that contains text preceded by a # is a comment, and will not run.  It is intended to provide context.  You may find it useful to insert comments to yourself as you go, so you don't lose track of what you're working on.\n",
        "\n",
        "\n"
      ]
    },
    {
      "cell_type": "markdown",
      "metadata": {
        "id": "bcSp5wEZ2laz",
        "colab_type": "text"
      },
      "source": [
        "# New Section"
      ]
    },
    {
      "cell_type": "markdown",
      "metadata": {
        "id": "hRdZ0X77YC_p",
        "colab_type": "text"
      },
      "source": [
        "## Variables\n",
        "Variables allow us to assign a value to a name so that we can use those values in complex ways.  \n",
        "\n",
        "The '=' is used for assignment.\n",
        "\n",
        "Best practice in Python gives us rules for naming variables. Names:\n",
        "- should be descriptive about the value\n",
        "- should not use leading numbers\n",
        "- should not use spaces, but '_'\n",
        "- should not use uppercase letters\n",
        "- should not use python [keywords](https://www.pythonforbeginners.com/basics/keywords-in-python)\n",
        "\n",
        "#### The print() function\n",
        "Since it is so useful for showing us what's happening when we run jupyter code blocks, we use the inbuilt print function throughout this code.  It will come in handy when we work on our examples, too!"
      ]
    },
    {
      "cell_type": "code",
      "metadata": {
        "id": "ERVCE_X_qGVB",
        "colab_type": "code",
        "outputId": "0ef5a4b9-29d4-4dc6-d8e3-f26aa541177f",
        "colab": {
          "base_uri": "https://localhost:8080/",
          "height": 34
        }
      },
      "source": [
        "greeting_string = 'Hello, coders!'\n",
        "print(greeting_string)"
      ],
      "execution_count": 0,
      "outputs": [
        {
          "output_type": "stream",
          "text": [
            "Hello, coders!\n"
          ],
          "name": "stdout"
        }
      ]
    },
    {
      "cell_type": "markdown",
      "metadata": {
        "id": "4nLBg6oFZg00",
        "colab_type": "text"
      },
      "source": [
        "#### Data Types\n",
        "The data type refers to the kind of value it refers to.  The basic data types we will use today include:\n",
        "- integers\n",
        "- floating-point numbers\n",
        "- booleans\n",
        "- strings"
      ]
    },
    {
      "cell_type": "code",
      "metadata": {
        "id": "4Rm2KNttdsxR",
        "colab_type": "code",
        "outputId": "f8f4642f-6c15-4f8a-d017-7dad0fee1f43",
        "colab": {
          "base_uri": "https://localhost:8080/",
          "height": 87
        }
      },
      "source": [
        "my_int = 42\n",
        "my_float = 3.14\n",
        "my_bool = True\n",
        "my_string = 'What is the meaning of life?'\n",
        "print(my_string)\n",
        "print(my_int)\n",
        "print(my_float)\n",
        "print(my_bool)"
      ],
      "execution_count": 0,
      "outputs": [
        {
          "output_type": "stream",
          "text": [
            "What is the meaning of life?\n",
            "42\n",
            "3.14\n",
            "True\n"
          ],
          "name": "stdout"
        }
      ]
    },
    {
      "cell_type": "code",
      "metadata": {
        "id": "qF7PWW2HtqO9",
        "colab_type": "code",
        "outputId": "2e78f5da-b0b8-4835-a8ca-2e7df3e7867c",
        "colab": {
          "base_uri": "https://localhost:8080/",
          "height": 87
        }
      },
      "source": [
        "# create at least one variable of each type listed above, using descriptive names\n",
        "catherine_integer = 30\n",
        "kim_float = 12.15\n",
        "group_bool = False\n",
        "my_string = \"I'm here\"\n",
        "print(catherine_integer)\n",
        "print(kim_float)\n",
        "print(group_bool)\n",
        "print(my_string)"
      ],
      "execution_count": 0,
      "outputs": [
        {
          "output_type": "stream",
          "text": [
            "30\n",
            "12.15\n",
            "False\n",
            "I'm here\n"
          ],
          "name": "stdout"
        }
      ]
    },
    {
      "cell_type": "markdown",
      "metadata": {
        "id": "WE4MbKJCj57k",
        "colab_type": "text"
      },
      "source": [
        "#### Dynamic Typing\n",
        "\n",
        "If you code in other languages, you may notice that python is dynamically typed, and will let you manipulate a variable depending on the type of value.  This can be quite useful, but can also cause bugs if you don't pay attention."
      ]
    },
    {
      "cell_type": "code",
      "metadata": {
        "id": "VoG9hA94kV71",
        "colab_type": "code",
        "outputId": "b6990a9c-ddab-412d-a8c6-c3a7c023e3a3",
        "colab": {
          "base_uri": "https://localhost:8080/",
          "height": 34
        }
      },
      "source": [
        "my_favorite = 101\n",
        "print(my_favorite)"
      ],
      "execution_count": 0,
      "outputs": [
        {
          "output_type": "stream",
          "text": [
            "101\n"
          ],
          "name": "stdout"
        }
      ]
    },
    {
      "cell_type": "code",
      "metadata": {
        "id": "eE_rohbRkqwI",
        "colab_type": "code",
        "outputId": "3c59d413-b2e2-446c-c4c7-67ce42a3113f",
        "colab": {
          "base_uri": "https://localhost:8080/",
          "height": 34
        }
      },
      "source": [
        "my_favorite = 'Chocolate'\n",
        "print(my_favorite)"
      ],
      "execution_count": 0,
      "outputs": [
        {
          "output_type": "stream",
          "text": [
            "Chocolate\n"
          ],
          "name": "stdout"
        }
      ]
    },
    {
      "cell_type": "markdown",
      "metadata": {
        "id": "JBdz9SNnxzgA",
        "colab_type": "text"
      },
      "source": [
        "## Statements and Expressions\n",
        "In order to effectively use variables, we need to do more than assign a value, which is called an assignment statement.  We can write expressions that involve variables and operators in order to manipulate values effectively.\n",
        "\n",
        "\n",
        "Some Operators:\n",
        "+, -, *, /, //, %\n",
        "\n",
        "Expressions using these operators will follow mathematical order of operations - PEMDAS\n"
      ]
    },
    {
      "cell_type": "code",
      "metadata": {
        "id": "6g_ZRScOxwB3",
        "colab_type": "code",
        "outputId": "2d39cdd9-dcaa-4e63-8329-1bb8cec2d7f6",
        "colab": {
          "base_uri": "https://localhost:8080/",
          "height": 34
        }
      },
      "source": [
        "int_number = 10\n",
        "print(int_number + 5)"
      ],
      "execution_count": 0,
      "outputs": [
        {
          "output_type": "stream",
          "text": [
            "15\n"
          ],
          "name": "stdout"
        }
      ]
    },
    {
      "cell_type": "code",
      "metadata": {
        "id": "XUF12wepgCzK",
        "colab_type": "code",
        "outputId": "fff23b12-51c6-4c32-e5e9-1edd761867a4",
        "colab": {
          "base_uri": "https://localhost:8080/",
          "height": 34
        }
      },
      "source": [
        "float_number = 2.5\n",
        "print(int_number - float_number)"
      ],
      "execution_count": 0,
      "outputs": [
        {
          "output_type": "stream",
          "text": [
            "7.5\n"
          ],
          "name": "stdout"
        }
      ]
    },
    {
      "cell_type": "code",
      "metadata": {
        "id": "ahr_Izr2gD8T",
        "colab_type": "code",
        "outputId": "25ab9488-7ddc-41e4-fd6c-6bd2ff17ac4a",
        "colab": {
          "base_uri": "https://localhost:8080/",
          "height": 34
        }
      },
      "source": [
        "print(int_number * float_number)"
      ],
      "execution_count": 0,
      "outputs": [
        {
          "output_type": "stream",
          "text": [
            "25.0\n"
          ],
          "name": "stdout"
        }
      ]
    },
    {
      "cell_type": "code",
      "metadata": {
        "id": "Dtrtgwp9gEIa",
        "colab_type": "code",
        "outputId": "494e216b-3e8b-4710-9a50-2e7d6582b894",
        "colab": {
          "base_uri": "https://localhost:8080/",
          "height": 34
        }
      },
      "source": [
        "print(5 / 2)"
      ],
      "execution_count": 0,
      "outputs": [
        {
          "output_type": "stream",
          "text": [
            "2.5\n"
          ],
          "name": "stdout"
        }
      ]
    },
    {
      "cell_type": "code",
      "metadata": {
        "id": "6vmMiGN8gEzk",
        "colab_type": "code",
        "outputId": "2328b97a-8e5b-48db-ad7a-2f704bcb9638",
        "colab": {
          "base_uri": "https://localhost:8080/",
          "height": 34
        }
      },
      "source": [
        "print(int_number // 3)"
      ],
      "execution_count": 0,
      "outputs": [
        {
          "output_type": "stream",
          "text": [
            "3\n"
          ],
          "name": "stdout"
        }
      ]
    },
    {
      "cell_type": "code",
      "metadata": {
        "id": "OdoOiHtcg_w5",
        "colab_type": "code",
        "outputId": "f69eb819-19a8-4fd6-98c8-15ff7ff5f857",
        "colab": {
          "base_uri": "https://localhost:8080/",
          "height": 34
        }
      },
      "source": [
        "print(int_number % 3)"
      ],
      "execution_count": 0,
      "outputs": [
        {
          "output_type": "stream",
          "text": [
            "1\n"
          ],
          "name": "stdout"
        }
      ]
    },
    {
      "cell_type": "code",
      "metadata": {
        "id": "JuM_AtnZtImh",
        "colab_type": "code",
        "outputId": "96d2dfc0-0c4e-4362-e25d-b1f28b78e939",
        "colab": {
          "base_uri": "https://localhost:8080/",
          "height": 34
        }
      },
      "source": [
        "# Create an expression that evaluates to 100 using four of the operators above\n",
        "print(10*10)\n"
      ],
      "execution_count": 0,
      "outputs": [
        {
          "output_type": "stream",
          "text": [
            "100\n"
          ],
          "name": "stdout"
        }
      ]
    },
    {
      "cell_type": "code",
      "metadata": {
        "id": "CZyPeQHlhBKC",
        "colab_type": "code",
        "outputId": "e3a282dd-33ca-4ea4-c1e8-1ea163bf2bcb",
        "colab": {
          "base_uri": "https://localhost:8080/",
          "height": 34
        }
      },
      "source": [
        "print(99+1)"
      ],
      "execution_count": 0,
      "outputs": [
        {
          "output_type": "stream",
          "text": [
            "100\n"
          ],
          "name": "stdout"
        }
      ]
    },
    {
      "cell_type": "markdown",
      "metadata": {
        "id": "umAlvBoLqZbZ",
        "colab_type": "text"
      },
      "source": [
        "#### Strings\n",
        "Because they are highly utilized and are unique, strings merit their own series of exercises.  For instance, rather than performing addition, the + operator will concatenate strings, as shown below."
      ]
    },
    {
      "cell_type": "code",
      "metadata": {
        "id": "xi79BBSdqvUV",
        "colab_type": "code",
        "outputId": "1299b1a6-c0dd-4821-e1e3-583e8cdcce94",
        "colab": {
          "base_uri": "https://localhost:8080/",
          "height": 34
        }
      },
      "source": [
        "string_one = 'con'\n",
        "string_two = 'cat'\n",
        "string_three = 'en'\n",
        "string_four = 'ate'\n",
        "whole_string = string_one + string_two + string_three + string_four\n",
        "print(whole_string)"
      ],
      "execution_count": 0,
      "outputs": [
        {
          "output_type": "stream",
          "text": [
            "concatenate\n"
          ],
          "name": "stdout"
        }
      ]
    },
    {
      "cell_type": "code",
      "metadata": {
        "id": "rGta58F3s9iT",
        "colab_type": "code",
        "colab": {}
      },
      "source": [
        "# Create a string with the value of your name, and print it\n"
      ],
      "execution_count": 0,
      "outputs": []
    },
    {
      "cell_type": "code",
      "metadata": {
        "id": "ifTSA1Bgxx7W",
        "colab_type": "code",
        "outputId": "e155a589-18fa-4e09-8d17-3efe31fa3ed1",
        "colab": {
          "base_uri": "https://localhost:8080/",
          "height": 34
        }
      },
      "source": [
        "# experiment with some other operators.  Can *, /, or - be used with a string?\n",
        "my_letter = 'm'\n",
        "print(my_letter*10)"
      ],
      "execution_count": 0,
      "outputs": [
        {
          "output_type": "stream",
          "text": [
            "mmmmmmmmmm\n"
          ],
          "name": "stdout"
        }
      ]
    },
    {
      "cell_type": "markdown",
      "metadata": {
        "id": "gyFZRQdwrM2L",
        "colab_type": "text"
      },
      "source": [
        "Strings can consist of a single word, or a phrase with spaces, as long as the string is declared inside of either single or double quote marks.  The elements inside a string are immuteable, but you can add to it.  \n",
        "\n",
        "Strings are considered a sequence in Python, which means that we can use an index number to refer to each element of the string.  This is really useful for string manipulation, and will come in handy when working on exercises.  We use the format string[index] to refer to a specific index, starting from 0."
      ]
    },
    {
      "cell_type": "code",
      "metadata": {
        "id": "XE9oKdHCrzjz",
        "colab_type": "code",
        "outputId": "57c93674-5abc-4368-998b-08198e6a0214",
        "colab": {
          "base_uri": "https://localhost:8080/",
          "height": 34
        }
      },
      "source": [
        "print(whole_string[0])"
      ],
      "execution_count": 0,
      "outputs": [
        {
          "output_type": "stream",
          "text": [
            "c\n"
          ],
          "name": "stdout"
        }
      ]
    },
    {
      "cell_type": "markdown",
      "metadata": {
        "id": "5uuzCWmTsYU0",
        "colab_type": "text"
      },
      "source": [
        "The len() function will help us to determine the length of a string for indexing."
      ]
    },
    {
      "cell_type": "code",
      "metadata": {
        "id": "Rpxu9znPsSnu",
        "colab_type": "code",
        "outputId": "4df7d98f-9f6d-4a3a-e8fe-821f6c27d871",
        "colab": {
          "base_uri": "https://localhost:8080/",
          "height": 34
        }
      },
      "source": [
        "len(whole_string)"
      ],
      "execution_count": 0,
      "outputs": [
        {
          "output_type": "execute_result",
          "data": {
            "text/plain": [
              "11"
            ]
          },
          "metadata": {
            "tags": []
          },
          "execution_count": 17
        }
      ]
    },
    {
      "cell_type": "markdown",
      "metadata": {
        "id": "CSJt-qRSs313",
        "colab_type": "text"
      },
      "source": [
        "Keep in mind that the first letter of the string is in position 0, and if you put in a number that is longer than the length of the string - 1, you will get an index out of bounds error.   Can you fix the code below?"
      ]
    },
    {
      "cell_type": "code",
      "metadata": {
        "id": "g41G7ddlsuuN",
        "colab_type": "code",
        "outputId": "ede29235-24cf-411b-9404-169d20f3cee0",
        "colab": {
          "base_uri": "https://localhost:8080/",
          "height": 34
        }
      },
      "source": [
        "print(whole_string[10])"
      ],
      "execution_count": 0,
      "outputs": [
        {
          "output_type": "stream",
          "text": [
            "e\n"
          ],
          "name": "stdout"
        }
      ]
    },
    {
      "cell_type": "markdown",
      "metadata": {
        "id": "2EoXk0yIuOt9",
        "colab_type": "text"
      },
      "source": [
        "We can **slice** a string to only print certain elements using a : inside the index brackets.  Be aware that the first index is included in the slice, but the last index is not."
      ]
    },
    {
      "cell_type": "code",
      "metadata": {
        "id": "VQvwctSYvHfi",
        "colab_type": "code",
        "outputId": "0f597dcb-171a-49f4-e6ba-6c6052fd8191",
        "colab": {
          "base_uri": "https://localhost:8080/",
          "height": 34
        }
      },
      "source": [
        "my_name = \"Julia\"\n",
        "print(my_name[1:3])"
      ],
      "execution_count": 0,
      "outputs": [
        {
          "output_type": "stream",
          "text": [
            "ul\n"
          ],
          "name": "stdout"
        }
      ]
    },
    {
      "cell_type": "markdown",
      "metadata": {
        "id": "VQ--CufsvtOH",
        "colab_type": "text"
      },
      "source": [
        "We can print all of the elements after a given index:"
      ]
    },
    {
      "cell_type": "code",
      "metadata": {
        "id": "Km6iCwiQvWhW",
        "colab_type": "code",
        "outputId": "2eee0b97-6bd1-4690-9a36-d4af7b663f03",
        "colab": {
          "base_uri": "https://localhost:8080/",
          "height": 34
        }
      },
      "source": [
        "print(my_name[1:])"
      ],
      "execution_count": 0,
      "outputs": [
        {
          "output_type": "stream",
          "text": [
            "ulia\n"
          ],
          "name": "stdout"
        }
      ]
    },
    {
      "cell_type": "markdown",
      "metadata": {
        "id": "SYvYEqNNvoEw",
        "colab_type": "text"
      },
      "source": [
        "We can print all of the elements up to a certain index:"
      ]
    },
    {
      "cell_type": "code",
      "metadata": {
        "id": "iLleSJC-vhv4",
        "colab_type": "code",
        "outputId": "b5cd266f-1e79-4e46-9922-f295c85c297c",
        "colab": {
          "base_uri": "https://localhost:8080/",
          "height": 34
        }
      },
      "source": [
        "print(my_name[:1])"
      ],
      "execution_count": 0,
      "outputs": [
        {
          "output_type": "stream",
          "text": [
            "J\n"
          ],
          "name": "stdout"
        }
      ]
    },
    {
      "cell_type": "markdown",
      "metadata": {
        "id": "iVcsWVfzv8nn",
        "colab_type": "text"
      },
      "source": [
        "We can start at the last index and work backwards using negative numbers:"
      ]
    },
    {
      "cell_type": "code",
      "metadata": {
        "id": "0HtrZlcMwKUY",
        "colab_type": "code",
        "outputId": "247852fe-920b-4235-f8d8-14f8e665979a",
        "colab": {
          "base_uri": "https://localhost:8080/",
          "height": 34
        }
      },
      "source": [
        "print(my_name[:-1])"
      ],
      "execution_count": 0,
      "outputs": [
        {
          "output_type": "stream",
          "text": [
            "Juli\n"
          ],
          "name": "stdout"
        }
      ]
    },
    {
      "cell_type": "markdown",
      "metadata": {
        "id": "hgLw5TbewYgO",
        "colab_type": "text"
      },
      "source": [
        "We can also use this notation to print every x number of elements, with a default of 1:"
      ]
    },
    {
      "cell_type": "code",
      "metadata": {
        "id": "u9zrxddwwoqp",
        "colab_type": "code",
        "outputId": "8092318a-7810-4b9c-dc8e-a0fc33397da1",
        "colab": {
          "base_uri": "https://localhost:8080/",
          "height": 34
        }
      },
      "source": [
        "print(my_name[::2])"
      ],
      "execution_count": 0,
      "outputs": [
        {
          "output_type": "stream",
          "text": [
            "Jla\n"
          ],
          "name": "stdout"
        }
      ]
    },
    {
      "cell_type": "code",
      "metadata": {
        "id": "qcviimq2w1_i",
        "colab_type": "code",
        "outputId": "e30f5b83-6eeb-4787-c3ef-87ffee708ed2",
        "colab": {
          "base_uri": "https://localhost:8080/",
          "height": 34
        }
      },
      "source": [
        "# Create a string with the name of your favorite state and print every second element.\n",
        "my_state = 'Maryland'\n",
        "print(my_state[1::3])"
      ],
      "execution_count": 0,
      "outputs": [
        {
          "output_type": "stream",
          "text": [
            "ald\n"
          ],
          "name": "stdout"
        }
      ]
    },
    {
      "cell_type": "code",
      "metadata": {
        "id": "vHbZ7fqsxDEX",
        "colab_type": "code",
        "outputId": "96d8efdb-4aa3-4efe-ad53-1aa512f61db6",
        "colab": {
          "base_uri": "https://localhost:8080/",
          "height": 34
        }
      },
      "source": [
        "# Challenge: can you use slicing to reverse the string?\n",
        "print(my_state[::-1])"
      ],
      "execution_count": 0,
      "outputs": [
        {
          "output_type": "stream",
          "text": [
            "dnalyraM\n"
          ],
          "name": "stdout"
        }
      ]
    },
    {
      "cell_type": "markdown",
      "metadata": {
        "id": "Sskq4niFyKso",
        "colab_type": "text"
      },
      "source": [
        "## Conditions\n",
        "\n",
        "There is one data type we haven't talked much about - **booleans**.  A boolean can only contain `True` or `False`. Boolean expressions are very important for managing expressions and statements, and are written with **comparison operators**:\n",
        "\n",
        "x == y # x is equal to y\n",
        "\n",
        "x != y # x is not equal to y\n",
        "\n",
        "x > y  # x is greater than y\n",
        "\n",
        "x < y  # x is less than y\n",
        "\n",
        "x >= y  # x is greater than or equal to y\n",
        "\n",
        "x <= y  # x is less than or equal to y\n",
        "\n",
        "x `is` y # x is the same is y\n",
        "\n",
        "x `is not` y # x is not the same as y\n",
        "\n",
        "\n"
      ]
    },
    {
      "cell_type": "code",
      "metadata": {
        "id": "xdEZu8eHyS9m",
        "colab_type": "code",
        "outputId": "0ba69a22-1886-42e1-e29c-734a836dc0f4",
        "colab": {
          "base_uri": "https://localhost:8080/",
          "height": 34
        }
      },
      "source": [
        "current_day = 20\n",
        "tomorrow = 21\n",
        "\n",
        "current_day > tomorrow"
      ],
      "execution_count": 0,
      "outputs": [
        {
          "output_type": "execute_result",
          "data": {
            "text/plain": [
              "False"
            ]
          },
          "metadata": {
            "tags": []
          },
          "execution_count": 26
        }
      ]
    },
    {
      "cell_type": "code",
      "metadata": {
        "id": "NYR1_Bdn8MOq",
        "colab_type": "code",
        "outputId": "b077ce11-593e-4dbc-8534-8a8fe40bdee7",
        "colab": {
          "base_uri": "https://localhost:8080/",
          "height": 34
        }
      },
      "source": [
        "# Write a boolean expression that evaluates to true\n",
        "tomorrow > current_day"
      ],
      "execution_count": 0,
      "outputs": [
        {
          "output_type": "execute_result",
          "data": {
            "text/plain": [
              "True"
            ]
          },
          "metadata": {
            "tags": []
          },
          "execution_count": 27
        }
      ]
    },
    {
      "cell_type": "markdown",
      "metadata": {
        "id": "EYDEL1gSzr7r",
        "colab_type": "text"
      },
      "source": [
        "#### Logical Operators\n",
        "\n",
        "`and`, `or`, and `not` are the three logical operators in Python.  They are useful in combining and filtering conditions."
      ]
    },
    {
      "cell_type": "markdown",
      "metadata": {
        "id": "gakinCA50jnE",
        "colab_type": "text"
      },
      "source": [
        "#### Conditional Execution\n",
        "\n",
        "To write Python scripts with the most utility, we need to use **conditional statements** to check the status of a condition, and execute particular expressions or statements accordingly.  \n",
        "\n",
        "#### If statements:\n",
        "If a condition is satisfied, execute the expression indented underneath.\n"
      ]
    },
    {
      "cell_type": "code",
      "metadata": {
        "id": "7sQ7YZqN1fEP",
        "colab_type": "code",
        "outputId": "626a5088-115b-4407-d61d-7043c419d6d2",
        "colab": {
          "base_uri": "https://localhost:8080/",
          "height": 34
        }
      },
      "source": [
        "if current_day > 15:\n",
        "  print('The month is almost over.')"
      ],
      "execution_count": 0,
      "outputs": [
        {
          "output_type": "stream",
          "text": [
            "The month is almost over.\n"
          ],
          "name": "stdout"
        }
      ]
    },
    {
      "cell_type": "markdown",
      "metadata": {
        "id": "eDEmzokh1pfP",
        "colab_type": "text"
      },
      "source": [
        "Indentation is crucial to execution.  If there is something wrong, you will get an indentation error.\n",
        "\n",
        "Can you fix the code in the box below?"
      ]
    },
    {
      "cell_type": "code",
      "metadata": {
        "id": "h5TZtRGY1uwF",
        "colab_type": "code",
        "outputId": "d1a85ab4-8452-41ef-aed7-0d7abe4c1cb9",
        "colab": {
          "base_uri": "https://localhost:8080/",
          "height": 34
        }
      },
      "source": [
        "if current_day != 1:\n",
        "  print('It is not the first of the month.')"
      ],
      "execution_count": 0,
      "outputs": [
        {
          "output_type": "stream",
          "text": [
            "It is not the first of the month.\n"
          ],
          "name": "stdout"
        }
      ]
    },
    {
      "cell_type": "markdown",
      "metadata": {
        "id": "fvBi0rSI2LsA",
        "colab_type": "text"
      },
      "source": [
        "There is also the option to include `elif` (creating a 'chain' of conditions) which means else if,  and `else` execution alongside your `if` statement.\n",
        "\n",
        "What will be the output of the code below?"
      ]
    },
    {
      "cell_type": "code",
      "metadata": {
        "id": "dmuQzvLK2XC3",
        "colab_type": "code",
        "outputId": "8bef1584-2acc-45c7-a82b-336c8687a999",
        "colab": {
          "base_uri": "https://localhost:8080/",
          "height": 34
        }
      },
      "source": [
        "if current_day < 7:\n",
        "  print('It is the beginning of the month')\n",
        "elif current_day < 20:\n",
        "  print('It is the middle of the month')\n",
        "else:\n",
        "  print('It is the end of the month')"
      ],
      "execution_count": 0,
      "outputs": [
        {
          "output_type": "stream",
          "text": [
            "It is the end of the month\n"
          ],
          "name": "stdout"
        }
      ]
    },
    {
      "cell_type": "markdown",
      "metadata": {
        "id": "F5mh5eVE24z0",
        "colab_type": "text"
      },
      "source": [
        "We can also nest conditions, which will be important later for our examples."
      ]
    },
    {
      "cell_type": "markdown",
      "metadata": {
        "id": "tHrSR_Lc8ebQ",
        "colab_type": "text"
      },
      "source": [
        "#### For Statements\n",
        "\n",
        "Python's for statement is different than other programming laguages.  It allows us to iterate over the elemets of a string, or any sequence, in the order of that string."
      ]
    },
    {
      "cell_type": "code",
      "metadata": {
        "id": "r_1A48yY81la",
        "colab_type": "code",
        "outputId": "85b26f55-0813-4c17-81ae-de9724acbe63",
        "colab": {
          "base_uri": "https://localhost:8080/",
          "height": 105
        }
      },
      "source": [
        "for letter in my_name:\n",
        "  print(letter)"
      ],
      "execution_count": 0,
      "outputs": [
        {
          "output_type": "stream",
          "text": [
            "J\n",
            "u\n",
            "l\n",
            "i\n",
            "a\n"
          ],
          "name": "stdout"
        }
      ]
    },
    {
      "cell_type": "markdown",
      "metadata": {
        "id": "qc5ouXnC9Ct1",
        "colab_type": "text"
      },
      "source": [
        "The range() function is useful for iterating over a sequence of numbers."
      ]
    },
    {
      "cell_type": "code",
      "metadata": {
        "id": "cqn5-OwW9Vi1",
        "colab_type": "code",
        "outputId": "efdf6448-e7f9-4f69-f940-f10c41fe571c",
        "colab": {
          "base_uri": "https://localhost:8080/",
          "height": 122
        }
      },
      "source": [
        "for number in range(5, 11):\n",
        "  print(number)"
      ],
      "execution_count": 0,
      "outputs": [
        {
          "output_type": "stream",
          "text": [
            "5\n",
            "6\n",
            "7\n",
            "8\n",
            "9\n",
            "10\n"
          ],
          "name": "stdout"
        }
      ]
    },
    {
      "cell_type": "markdown",
      "metadata": {
        "id": "Il_3mCV5--Iy",
        "colab_type": "text"
      },
      "source": [
        ""
      ]
    },
    {
      "cell_type": "markdown",
      "metadata": {
        "id": "5feyUv2b-cjx",
        "colab_type": "text"
      },
      "source": [
        "To iterate over the indicies of a sequence, range() and len() can be combined."
      ]
    },
    {
      "cell_type": "code",
      "metadata": {
        "id": "7vy11LwW-kjU",
        "colab_type": "code",
        "outputId": "3c5a4587-58b6-4bc6-e8a7-f7ca6a01a52b",
        "colab": {
          "base_uri": "https://localhost:8080/",
          "height": 140
        }
      },
      "source": [
        "weird_string = 'lanolin'\n",
        "for i in range(len(weird_string)):\n",
        "  print(i, weird_string[i])"
      ],
      "execution_count": 0,
      "outputs": [
        {
          "output_type": "stream",
          "text": [
            "0 l\n",
            "1 a\n",
            "2 n\n",
            "3 o\n",
            "4 l\n",
            "5 i\n",
            "6 n\n"
          ],
          "name": "stdout"
        }
      ]
    },
    {
      "cell_type": "markdown",
      "metadata": {
        "id": "rv8kYqAVHWJF",
        "colab_type": "text"
      },
      "source": [
        "#### While statements\n",
        "While a condition is met, the code block will execute.  What could go wrong with the code below? Fix it before you attempt to execute.  "
      ]
    },
    {
      "cell_type": "code",
      "metadata": {
        "id": "zzdiadQeO5PL",
        "colab_type": "code",
        "outputId": "22df1621-a6a1-420e-bd2e-a2daf31a083a",
        "colab": {
          "base_uri": "https://localhost:8080/",
          "height": 34
        }
      },
      "source": [
        "# while current_day != 31:\n",
        "    print('It is not the last day of the month.') "
      ],
      "execution_count": 0,
      "outputs": [
        {
          "output_type": "stream",
          "text": [
            "It is not the last day of the month.\n"
          ],
          "name": "stdout"
        }
      ]
    },
    {
      "cell_type": "markdown",
      "metadata": {
        "id": "8wrTnD56yTHx",
        "colab_type": "text"
      },
      "source": [
        "## Fill in the Blank\n",
        "\n",
        "Look at the examples below.  Can you complete and run the block successfully?"
      ]
    },
    {
      "cell_type": "code",
      "metadata": {
        "id": "JOl2hRko3aDn",
        "colab_type": "code",
        "outputId": "da60a7c5-5932-44ae-a7ba-8b4b6d02f758",
        "colab": {
          "base_uri": "https://localhost:8080/",
          "height": 228
        }
      },
      "source": [
        "# Print your name, one letter at a time and on seperate lines, with each line numbered\n",
        "my_name = 'Grace Hopper'\n",
        "for i in range(len(my_name)):\n",
        "   print(i, my_name[i])"
      ],
      "execution_count": 0,
      "outputs": [
        {
          "output_type": "stream",
          "text": [
            "0 G\n",
            "1 r\n",
            "2 a\n",
            "3 c\n",
            "4 e\n",
            "5  \n",
            "6 H\n",
            "7 o\n",
            "8 p\n",
            "9 p\n",
            "10 e\n",
            "11 r\n"
          ],
          "name": "stdout"
        }
      ]
    },
    {
      "cell_type": "code",
      "metadata": {
        "id": "xlygRixXydxs",
        "colab_type": "code",
        "outputId": "70ad0460-67e8-4760-f7a7-e34d6a959c41",
        "colab": {
          "base_uri": "https://localhost:8080/",
          "height": 87
        }
      },
      "source": [
        "# Calculate total_pay, including time and a half pay for overtime\n",
        "hours_worked = 47\n",
        "pay_rate = 12.0\n",
        "\n",
        "if hours_worked > 40:\n",
        "  overtime_hour= hours_worked-40\n",
        "  #hours_worked-40=overtime_hour ; function always goes on right side of =\n",
        "  y = overtime_hour * ((pay_rate/2) +pay_rate)\n",
        "  #overtime pay time and halfpay =y\n",
        "  x= 40 * pay_rate\n",
        "  #regpay+ overtimepay = total pay\n",
        "  pay_andovertime= x + y  \n",
        "\n",
        "print (pay_andovertime) #total_pay\n",
        "\n",
        "# insert your code here. Calculate the number of hours of overtime, then the overtime pay due,\n",
        "# then the regular pay due\n",
        "print(overtime_hour) #hours of overtime\n",
        "print(y) #overtime pay due\n",
        "print(x) #regular pay due\n",
        "     \n",
        "\n"
      ],
      "execution_count": 0,
      "outputs": [
        {
          "output_type": "stream",
          "text": [
            "606.0\n",
            "7\n",
            "126.0\n",
            "480.0\n"
          ],
          "name": "stdout"
        }
      ]
    },
    {
      "cell_type": "code",
      "metadata": {
        "id": "1FlqEYH63aZc",
        "colab_type": "code",
        "colab": {}
      },
      "source": [
        "# Given an integer, write a control flow for the following conditions:\n",
        "# If the number is even:\n",
        "x = % \n",
        "  # if the number is between 1 and 30:\n",
        "    # print 'This number is in category A.'\n",
        "  # else, if the number is greater than 60: \n",
        "    # print 'This number is in category B.'\n",
        "# if the number is odd, print 'This number is in Category C.'\n",
        "\n"
      ],
      "execution_count": 0,
      "outputs": []
    },
    {
      "cell_type": "code",
      "metadata": {
        "id": "xrxsjcVXENTR",
        "colab_type": "code",
        "colab": {}
      },
      "source": [
        "# Given a number, if it is even, print a message stating that it is even.  \n",
        "# If it is odd, print that it is odd.  \n"
      ],
      "execution_count": 0,
      "outputs": []
    },
    {
      "cell_type": "markdown",
      "metadata": {
        "id": "RUwV4Qc5ywJK",
        "colab_type": "text"
      },
      "source": [
        "## Project from *[Automate the Boring Stuff](https://automatetheboringstuff.com/#toc)*\n",
        "\n",
        "### Adding Bullets to Wiki Markup\n",
        "When editing a Wikipedia article, you can create a bulleted list by putting each list item on its own line and placing a star in front. But say you have a really large list that you want to add bullet points to. You could just type those stars at the beginning of each line, one by one. Or you could automate this task with a short Python script.\n",
        "\n",
        "The bulletPointAdder.py script will get the text from the clipboard, add a star and space to the beginning of each line, and then paste this new text to the clipboard. For example, if I copied the following text (for the Wikipedia article “List of Lists of Lists”) to the clipboard:\n",
        "\n",
        "\n",
        "Lists of animals\n",
        "Lists of aquarium life\n",
        "Lists of biologists by author abbreviationWiki\n",
        "Lists of cultivars\n",
        "and then ran the bulletPointAdder.py program, the clipboard would then contain the following:\n",
        "\n",
        "\n",
        "* Lists of animals\n",
        "* Lists of aquarium life\n",
        "* Lists of biologists by author abbreviation\n",
        "* Lists of cultivars\n",
        "\n",
        "\n",
        "#### Lists\n",
        "For this project, it will be helpful to know that there is a List data type in Python, assigned as my_list = [ ], that can contain any of the other data types we have discussed, including nested lists.\n",
        "so, the list of lists above would look like:\n",
        "\n"
      ]
    },
    {
      "cell_type": "code",
      "metadata": {
        "id": "_4nScLuuJBWu",
        "colab_type": "code",
        "colab": {}
      },
      "source": [
        "wiki_list = ['Lists of animals', 'Lists of aquarium life', 'Lists of biologists by author abbreviation', 'Lists of cultivars']"
      ],
      "execution_count": 0,
      "outputs": []
    },
    {
      "cell_type": "markdown",
      "metadata": {
        "id": "fwe7tFJxJbfg",
        "colab_type": "text"
      },
      "source": [
        "Lists are sequences, just like strings, and you can use many of the same techniques to iterate over them.  If you wanted to display the second element of the list, you could do so:"
      ]
    },
    {
      "cell_type": "code",
      "metadata": {
        "id": "Y7xjagL7Jnwj",
        "colab_type": "code",
        "outputId": "ab10e794-bc34-44e6-f841-f861447df282",
        "colab": {
          "base_uri": "https://localhost:8080/",
          "height": 34
        }
      },
      "source": [
        "wiki_list[1]"
      ],
      "execution_count": 0,
      "outputs": [
        {
          "output_type": "execute_result",
          "data": {
            "text/plain": [
              "'Lists of aquarium life'"
            ]
          },
          "metadata": {
            "tags": []
          },
          "execution_count": 5
        }
      ]
    },
    {
      "cell_type": "markdown",
      "metadata": {
        "id": "JeOllcKTJ77X",
        "colab_type": "text"
      },
      "source": [
        "## Next Month: Functions, Complex Data Types, and Files\n",
        "\n",
        "### Resources:\n",
        "https://docs.python.org/3/tutorial/index.html\n",
        "\n",
        "https://docs.python.org/3/index.html"
      ]
    }
  ]
}