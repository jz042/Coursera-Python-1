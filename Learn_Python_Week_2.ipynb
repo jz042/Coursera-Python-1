{
  "nbformat": 4,
  "nbformat_minor": 0,
  "metadata": {
    "colab": {
      "name": "Learn Python Week 2.ipynb",
      "provenance": [],
      "collapsed_sections": [],
      "toc_visible": true,
      "include_colab_link": true
    },
    "kernelspec": {
      "name": "python3",
      "display_name": "Python 3"
    }
  },
  "cells": [
    {
      "cell_type": "markdown",
      "metadata": {
        "id": "view-in-github",
        "colab_type": "text"
      },
      "source": [
        "<a href=\"https://colab.research.google.com/github/jz042/Coursera-Python-1/blob/master/Learn_Python_Week_2.ipynb\" target=\"_parent\"><img src=\"https://colab.research.google.com/assets/colab-badge.svg\" alt=\"Open In Colab\"/></a>"
      ]
    },
    {
      "cell_type": "markdown",
      "metadata": {
        "id": "trnbnHHjqLGv",
        "colab_type": "text"
      },
      "source": [
        "# Functions, Complex Data Types, and Files\n",
        "### Overview\n",
        "1. Review of last month's project\n",
        "2. Jupyter Notebook walkthough: concepts and code snippets\n",
        "\n",
        "3. Fill in the blank code snippets\n",
        "4. This month's project challenge\n",
        "\n",
        "A note about Jupyter notebooks: the code cells must be run in order, and the output should appear below.  Any code cell that contains text preceded by a # is a comment, and will not run.  It is intended to provide context.  You may find it useful to insert comments to yourself as you go, so you don't lose track of what you're working on.\n",
        "\n",
        "\n"
      ]
    },
    {
      "cell_type": "markdown",
      "metadata": {
        "id": "RUwV4Qc5ywJK",
        "colab_type": "text"
      },
      "source": [
        "## Last Month...\n",
        "## Project from [Automate the Boring Stuff](https://automatetheboringstuff.com/#toc)\n",
        "\n",
        "### Adding Bullets to Wiki Markup\n",
        "When editing a Wikipedia article, you can create a bulleted list by putting each list item on its own line and placing a star in front. But say you have a really large list that you want to add bullet points to. You could just type those stars at the beginning of each line, one by one. Or you could automate this task with a short Python script.\n",
        "\n",
        "The bulletPointAdder.py script will get the text from the clipboard, add a star and space to the beginning of each line, and then paste this new text to the clipboard. For example, if I copied the following text (for the Wikipedia article “List of Lists of Lists”) to the clipboard:\n",
        "\n",
        "\n",
        "Lists of animals\n",
        "Lists of aquarium life\n",
        "Lists of biologists by author abbreviationWiki\n",
        "Lists of cultivars\n",
        "and then ran the bulletPointAdder.py program, the clipboard would then contain the following:\n",
        "\n",
        "\n",
        "* Lists of animals\n",
        "* Lists of aquarium life\n",
        "* Lists of biologists by author abbreviation\n",
        "* Lists of cultivars\n",
        "\n",
        "\n",
        "#### Lists\n",
        "For this project, it will be helpful to know that there is a List data type in Python, assigned as my_list = [ ], that can contain any of the other data types we have discussed, including nested lists.\n",
        "so, the list of lists above would look like:\n",
        "\n"
      ]
    },
    {
      "cell_type": "code",
      "metadata": {
        "id": "_4nScLuuJBWu",
        "colab_type": "code",
        "outputId": "7e8a9561-e233-46b9-ef4e-5657256f494f",
        "colab": {
          "base_uri": "https://localhost:8080/",
          "height": 87
        }
      },
      "source": [
        "wiki_list = ['Lists of animals', 'Lists of aquarium life', 'Lists of biologists by author abbreviation', 'Lists of cultivars']\n",
        "for item in wiki_list:\n",
        "  print(\"* \" + item)"
      ],
      "execution_count": 0,
      "outputs": [
        {
          "output_type": "stream",
          "text": [
            "* Lists of animals\n",
            "* Lists of aquarium life\n",
            "* Lists of biologists by author abbreviation\n",
            "* Lists of cultivars\n"
          ],
          "name": "stdout"
        }
      ]
    },
    {
      "cell_type": "markdown",
      "metadata": {
        "id": "hRdZ0X77YC_p",
        "colab_type": "text"
      },
      "source": [
        "## Functions\n",
        "Functions allow us to combine statements in order to repeatedly perform computations.  We name functions so that we can call or invoke them when needed.  \n",
        "\n",
        "We've already used a few functions that are built-in, but as a reminder:\n",
        "\n",
        "#### The print() function\n",
        "Since it is so useful for showing us what's happening when code executes, the print function is built into python.  No matter what version of Python you have, or the environment you're coding in, you can use built-in functions by name. \n",
        "\n",
        "Some functions, including the print function, take arguments - values that are given to the function inside the parentheses.  Below, the print function takes one argument.  Inside the function, the arguments are assigned to variables called parameters.  \n",
        "\n",
        "Note: built-in function names should be treated the same way as reserved words."
      ]
    },
    {
      "cell_type": "code",
      "metadata": {
        "id": "ERVCE_X_qGVB",
        "colab_type": "code",
        "outputId": "a083f615-289c-4aeb-e6f4-f7f8a3856d21",
        "colab": {
          "base_uri": "https://localhost:8080/",
          "height": 34
        }
      },
      "source": [
        "greeting_string = 'Hello again, coders!'\n",
        "print(greeting_string)"
      ],
      "execution_count": 0,
      "outputs": [
        {
          "output_type": "stream",
          "text": [
            "Hello again, coders!\n"
          ],
          "name": "stdout"
        }
      ]
    },
    {
      "cell_type": "markdown",
      "metadata": {
        "id": "aT-_oZ8mGNat",
        "colab_type": "text"
      },
      "source": [
        "#### Type Converstion functions\n",
        "When working with data, we may need to convert between types in order to perform calculations or manipulate data.  Type converstion functions are built-in and do just that.\n",
        "\n"
      ]
    },
    {
      "cell_type": "code",
      "metadata": {
        "id": "4i6JkYMAGlcZ",
        "colab_type": "code",
        "outputId": "cfd2cd71-3097-4fd2-b7d6-ca07804ce80c",
        "colab": {
          "base_uri": "https://localhost:8080/",
          "height": 51
        }
      },
      "source": [
        "amazon_int = 13\n",
        "Q2_float = 4.22\n",
        "print(amazon_int * Q2_float)\n",
        "print(int(amazon_int*Q2_float))"
      ],
      "execution_count": 0,
      "outputs": [
        {
          "output_type": "stream",
          "text": [
            "54.86\n",
            "54\n"
          ],
          "name": "stdout"
        }
      ]
    },
    {
      "cell_type": "code",
      "metadata": {
        "id": "c8ms0vMxHCCV",
        "colab_type": "code",
        "outputId": "b84016f0-8b8c-4fcc-bcf1-ac744e0b07c9",
        "colab": {
          "base_uri": "https://localhost:8080/",
          "height": 34
        }
      },
      "source": [
        "str(Q2_float)\n"
      ],
      "execution_count": 0,
      "outputs": [
        {
          "output_type": "execute_result",
          "data": {
            "text/plain": [
              "'4.22'"
            ]
          },
          "metadata": {
            "tags": []
          },
          "execution_count": 11
        }
      ]
    },
    {
      "cell_type": "markdown",
      "metadata": {
        "id": "h0GCBT39HT5t",
        "colab_type": "text"
      },
      "source": [
        "#### Code Challenge: make one string, one int, and one float.  Experiment with the different type converstion functions listed below to convert each variable:\n",
        "* int(a, base) - convert to integer - a is the int, base is the number system(i.e. 10)\n",
        "* float() - convert to floating point number\n",
        "* str() - convert to a string\n",
        "* ord() - convert a character to an integer\n",
        "* hex() - convert an integer to a hexadecimal string\n",
        "* oct() - convert an integer to an octal string\n",
        "* list() - convert any data type to a list"
      ]
    },
    {
      "cell_type": "code",
      "metadata": {
        "id": "Jj1mqDmhJj4f",
        "colab_type": "code",
        "colab": {}
      },
      "source": [
        "# Your code goes here\n",
        "mckenzie= 'brown'\n",
        "dog = 3\n",
        "day = 5.9\n",
        "test =64"
      ],
      "execution_count": 0,
      "outputs": []
    },
    {
      "cell_type": "code",
      "metadata": {
        "id": "kpx5TYTpuciO",
        "colab_type": "code",
        "outputId": "8e3255ae-08f0-40e6-cb5a-ec0d184466c9",
        "colab": {
          "base_uri": "https://localhost:8080/",
          "height": 34
        }
      },
      "source": [
        "list(mckenzie)"
      ],
      "execution_count": 0,
      "outputs": [
        {
          "output_type": "execute_result",
          "data": {
            "text/plain": [
              "['b', 'r', 'o', 'w', 'n']"
            ]
          },
          "metadata": {
            "tags": []
          },
          "execution_count": 19
        }
      ]
    },
    {
      "cell_type": "code",
      "metadata": {
        "id": "QAyAm04zum42",
        "colab_type": "code",
        "outputId": "c2c170be-6150-43b2-a039-cd693320cf70",
        "colab": {
          "base_uri": "https://localhost:8080/",
          "height": 34
        }
      },
      "source": [
        "float(dog)"
      ],
      "execution_count": 0,
      "outputs": [
        {
          "output_type": "execute_result",
          "data": {
            "text/plain": [
              "3.0"
            ]
          },
          "metadata": {
            "tags": []
          },
          "execution_count": 20
        }
      ]
    },
    {
      "cell_type": "code",
      "metadata": {
        "id": "I5h5V0Lwuq2j",
        "colab_type": "code",
        "outputId": "82231db3-9191-4e8b-c4bc-dc94d23d85c1",
        "colab": {
          "base_uri": "https://localhost:8080/",
          "height": 34
        }
      },
      "source": [
        "int(day)"
      ],
      "execution_count": 0,
      "outputs": [
        {
          "output_type": "execute_result",
          "data": {
            "text/plain": [
              "5"
            ]
          },
          "metadata": {
            "tags": []
          },
          "execution_count": 21
        }
      ]
    },
    {
      "cell_type": "code",
      "metadata": {
        "id": "aIPlRjj7u1a2",
        "colab_type": "code",
        "outputId": "ce8b87f2-251c-4d19-e3b0-d9515b605db6",
        "colab": {
          "base_uri": "https://localhost:8080/",
          "height": 34
        }
      },
      "source": [
        "int('64',8) #(string, base number)"
      ],
      "execution_count": 0,
      "outputs": [
        {
          "output_type": "execute_result",
          "data": {
            "text/plain": [
              "52"
            ]
          },
          "metadata": {
            "tags": []
          },
          "execution_count": 24
        }
      ]
    },
    {
      "cell_type": "code",
      "metadata": {
        "id": "hxZvYvqYvVuL",
        "colab_type": "code",
        "outputId": "5ad9e01b-69b5-4da2-83ba-1c95685aaa82",
        "colab": {
          "base_uri": "https://localhost:8080/",
          "height": 34
        }
      },
      "source": [
        "oct(43)"
      ],
      "execution_count": 0,
      "outputs": [
        {
          "output_type": "execute_result",
          "data": {
            "text/plain": [
              "'0o53'"
            ]
          },
          "metadata": {
            "tags": []
          },
          "execution_count": 25
        }
      ]
    },
    {
      "cell_type": "code",
      "metadata": {
        "id": "mZtekhievbdj",
        "colab_type": "code",
        "outputId": "5775211e-8264-4197-8875-24291482cda4",
        "colab": {
          "base_uri": "https://localhost:8080/",
          "height": 34
        }
      },
      "source": [
        "ord('d') #ascii or utf-8 or unicode; agreed that this "
      ],
      "execution_count": 0,
      "outputs": [
        {
          "output_type": "execute_result",
          "data": {
            "text/plain": [
              "100"
            ]
          },
          "metadata": {
            "tags": []
          },
          "execution_count": 30
        }
      ]
    },
    {
      "cell_type": "markdown",
      "metadata": {
        "id": "pmD9ZFsiJnTq",
        "colab_type": "text"
      },
      "source": [
        "#### Now that we know how to call functions by name, and how to pass arguments into a function, let's define a function!\n",
        "\n",
        "Built-in functions encomapss an enormous range of functionality, but when working on particular tasks, we will often need to define our own functions.\n",
        "\n",
        "Consider our project challenge from last week.  Imagine that we had a big group of files, and we wanted to add markdown notation to each.  It would be useful to a function to call for each file, rather than typing the same few lines of code over and over again.\n",
        "\n",
        "Instead, we write a function that has the functionality we want using the particular syntax.  We start with the keyword def, the name of the function, and then any arguments that we may want to pass in to the function, followed by a colon.  The statements inside the function must be indented, or you will get an error.\n"
      ]
    },
    {
      "cell_type": "code",
      "metadata": {
        "id": "3xjGiGvfK110",
        "colab_type": "code",
        "outputId": "8b6aac37-5732-4a3f-e3c3-9a37f0b6f553",
        "colab": {
          "base_uri": "https://localhost:8080/",
          "height": 87
        }
      },
      "source": [
        "def prefix_star(list_object):\n",
        "  for item in list_object:\n",
        "    print(\"* \" + item)\n",
        "\n",
        "prefix_star(wiki_list)"
      ],
      "execution_count": 0,
      "outputs": [
        {
          "output_type": "stream",
          "text": [
            "* Lists of animals\n",
            "* Lists of aquarium life\n",
            "* Lists of biologists by author abbreviation\n",
            "* Lists of cultivars\n"
          ],
          "name": "stdout"
        }
      ]
    },
    {
      "cell_type": "code",
      "metadata": {
        "id": "lHc8Ne9Q2W57",
        "colab_type": "code",
        "outputId": "168d6867-2676-4d32-a2aa-739c2faf7d1d",
        "colab": {
          "base_uri": "https://localhost:8080/",
          "height": 70
        }
      },
      "source": [
        "# Test the function - write your own list, and use the prefix_star function\n",
        "# to print each line with a star\n",
        "wish_list = ['money', 'house', '5'] #can't have a string appended to an integer\n",
        "wish_list = ['money', 'house', 'land']\n",
        "\n",
        "prefix_star(wish_list)"
      ],
      "execution_count": 0,
      "outputs": [
        {
          "output_type": "stream",
          "text": [
            "* money\n",
            "* house\n",
            "* land\n"
          ],
          "name": "stdout"
        }
      ]
    },
    {
      "cell_type": "code",
      "metadata": {
        "id": "eH5StocizPfj",
        "colab_type": "code",
        "outputId": "9e291230-9652-47f5-f5a2-3a53608f23ff",
        "colab": {
          "base_uri": "https://localhost:8080/",
          "height": 34
        }
      },
      "source": [
        "def prefix_star(list_object):\n",
        "  for item in list_object:\n",
        "    print(\"* \" + str('item'))\n",
        "\n",
        "wish_list = ['money', 'house', '5']\n",
        "\n",
        "wish_list"
      ],
      "execution_count": 0,
      "outputs": [
        {
          "output_type": "execute_result",
          "data": {
            "text/plain": [
              "['money', 'house', '5']"
            ]
          },
          "metadata": {
            "tags": []
          },
          "execution_count": 34
        }
      ]
    },
    {
      "cell_type": "markdown",
      "metadata": {
        "id": "4nLBg6oFZg00",
        "colab_type": "text"
      },
      "source": [
        "#### Complex Data Types\n",
        "\n",
        "There are several data structures that will be useful in storing, organizing, and managing data so that it can be easily modified or accessed.  \n",
        "The data structures we will work with tonight include:\n",
        "- strings\n",
        "- lists\n",
        "- dictionaries\n",
        "- files"
      ]
    },
    {
      "cell_type": "code",
      "metadata": {
        "id": "4Rm2KNttdsxR",
        "colab_type": "code",
        "outputId": "4ce32398-aaab-4a43-e3e3-575809406b89",
        "colab": {
          "base_uri": "https://localhost:8080/",
          "height": 34
        }
      },
      "source": [
        "example_string = \"There can be a lot of complexity within a string, but accessing it is simple.\"\n",
        "example_list = ['lists', 'strings', 'dictionaries', 'files']\n",
        "example_dict = {'Julia': 'This is my value.', 'Q2': 'Sponsored our pizza.', 'Amazon': 'Sponsored our space.'}\n",
        "print(example_string)"
      ],
      "execution_count": 0,
      "outputs": [
        {
          "output_type": "stream",
          "text": [
            "There can be a lot of complexity within a string, but accessing it is simple.\n"
          ],
          "name": "stdout"
        }
      ]
    },
    {
      "cell_type": "code",
      "metadata": {
        "id": "qF7PWW2HtqO9",
        "colab_type": "code",
        "outputId": "a2960cc4-5dce-4b54-e6d2-868db13f7c4b",
        "colab": {
          "base_uri": "https://localhost:8080/",
          "height": 87
        }
      },
      "source": [
        "# define a function that can print out the elements of a list\n",
        "\n",
        "def esther(im_not_sure):\n",
        "  for i in im_not_sure: \n",
        "   print(i) #allows you to print from any list\n",
        "esther(example_list)"
      ],
      "execution_count": 0,
      "outputs": [
        {
          "output_type": "stream",
          "text": [
            "lists\n",
            "strings\n",
            "dictionaries\n",
            "files\n"
          ],
          "name": "stdout"
        }
      ]
    },
    {
      "cell_type": "markdown",
      "metadata": {
        "id": "frsyIlE8XAWG",
        "colab_type": "text"
      },
      "source": [
        "#### Dictionaries are different, as we will learn later this evening.  For now,"
      ]
    },
    {
      "cell_type": "markdown",
      "metadata": {
        "id": "umAlvBoLqZbZ",
        "colab_type": "text"
      },
      "source": [
        "## Strings\n",
        "Because they are highly utilized and are unique, strings merit their own series of exercises.  We will review some additional functionality that will be useful to know moving forward."
      ]
    },
    {
      "cell_type": "code",
      "metadata": {
        "id": "rGta58F3s9iT",
        "colab_type": "code",
        "outputId": "4d5d5fd5-d922-4faf-9831-db6f0718445d",
        "colab": {
          "base_uri": "https://localhost:8080/",
          "height": 34
        }
      },
      "source": [
        "# Create a string with the value of your favorite food, and pass that variable in as an argument to the print function\n",
        "yummy = 'cake'\n",
        "print(yummy)  "
      ],
      "execution_count": 0,
      "outputs": [
        {
          "output_type": "stream",
          "text": [
            "cake\n"
          ],
          "name": "stdout"
        }
      ]
    },
    {
      "cell_type": "markdown",
      "metadata": {
        "id": "gyFZRQdwrM2L",
        "colab_type": "text"
      },
      "source": [
        "Strings can consist of a single word, or a phrase with spaces, as long as the string is declared inside of either single or double quote marks.  The elements inside a string are immuteable, but you can add to it.  \n",
        "\n",
        "Strings are considered a sequence in Python, which means that we can use an index number to refer to each element of the string.  This is really useful for string manipulation, and will come in handy when working on exercises.  We use the format string[index] to refer to a specific index, starting from 0."
      ]
    },
    {
      "cell_type": "code",
      "metadata": {
        "id": "XE9oKdHCrzjz",
        "colab_type": "code",
        "outputId": "5a92a70f-d815-4c50-8c0b-58a639f4711a",
        "colab": {
          "base_uri": "https://localhost:8080/",
          "height": 34
        }
      },
      "source": [
        "whole_string = \"This is the Ministry of Silly Walks\"\n",
        "print(whole_string[0])"
      ],
      "execution_count": 0,
      "outputs": [
        {
          "output_type": "stream",
          "text": [
            "T\n"
          ],
          "name": "stdout"
        }
      ]
    },
    {
      "cell_type": "markdown",
      "metadata": {
        "id": "5uuzCWmTsYU0",
        "colab_type": "text"
      },
      "source": [
        "The len() function will help us to determine the length of a string for indexing."
      ]
    },
    {
      "cell_type": "code",
      "metadata": {
        "id": "Rpxu9znPsSnu",
        "colab_type": "code",
        "outputId": "93e390af-6d76-4301-94d0-6b55f1162790",
        "colab": {
          "base_uri": "https://localhost:8080/",
          "height": 34
        }
      },
      "source": [
        "len(whole_string)"
      ],
      "execution_count": 0,
      "outputs": [
        {
          "output_type": "execute_result",
          "data": {
            "text/plain": [
              "35"
            ]
          },
          "metadata": {
            "tags": []
          },
          "execution_count": 43
        }
      ]
    },
    {
      "cell_type": "markdown",
      "metadata": {
        "id": "2EoXk0yIuOt9",
        "colab_type": "text"
      },
      "source": [
        "We can **slice** a string to only print certain elements using a : inside the index brackets.  Be aware that the first index is included in the slice, but the last index is not."
      ]
    },
    {
      "cell_type": "code",
      "metadata": {
        "id": "VQvwctSYvHfi",
        "colab_type": "code",
        "outputId": "65327e6a-3f34-4af9-a74e-98ca8e326620",
        "colab": {
          "base_uri": "https://localhost:8080/",
          "height": 34
        }
      },
      "source": [
        "print(whole_string[12:35])"
      ],
      "execution_count": 0,
      "outputs": [
        {
          "output_type": "stream",
          "text": [
            "Ministry of Silly Walks\n"
          ],
          "name": "stdout"
        }
      ]
    },
    {
      "cell_type": "markdown",
      "metadata": {
        "id": "_0QH75ffCzmz",
        "colab_type": "text"
      },
      "source": [
        "##### The `in` operator:\n",
        "`in` is a boolean operator that will compare two strings, and return True if the first appears as a substring of the second.  In has many applications, and can be very useful!"
      ]
    },
    {
      "cell_type": "code",
      "metadata": {
        "id": "qcviimq2w1_i",
        "colab_type": "code",
        "outputId": "f8333cfd-0bf5-471b-9b36-9f0a62d909aa",
        "colab": {
          "base_uri": "https://localhost:8080/",
          "height": 34
        }
      },
      "source": [
        "sub_string = \"Silly\"\n",
        "if sub_string in whole_string:\n",
        "  print(\"We are very silly!\")"
      ],
      "execution_count": 0,
      "outputs": [
        {
          "output_type": "stream",
          "text": [
            "We are very silly!\n"
          ],
          "name": "stdout"
        }
      ]
    },
    {
      "cell_type": "code",
      "metadata": {
        "id": "vHbZ7fqsxDEX",
        "colab_type": "code",
        "outputId": "05ad5460-69ad-4e54-8a89-ba2378cab6d8",
        "colab": {
          "base_uri": "https://localhost:8080/",
          "height": 34
        }
      },
      "source": [
        "# Challenge: what will be the output of the code below?  try and answer before you run it!\n",
        "sub_string  = \"Ministry\" #change to m & check output\n",
        "if sub_string in whole_string:\n",
        "  print(\"This is all Very Official.\")\n",
        "else:\n",
        "  print(\"how did we end up here?\")"
      ],
      "execution_count": 0,
      "outputs": [
        {
          "output_type": "stream",
          "text": [
            "This is all Very Official.\n"
          ],
          "name": "stdout"
        }
      ]
    },
    {
      "cell_type": "markdown",
      "metadata": {
        "id": "yby0rRyfEIFB",
        "colab_type": "text"
      },
      "source": [
        "Strings are a type of object, which meants that they contain both data and methods.  The `dir` function will list all of the methods available for an object.  "
      ]
    },
    {
      "cell_type": "code",
      "metadata": {
        "id": "1QkuENHTEf33",
        "colab_type": "code",
        "outputId": "350c7b95-0fde-4d7f-defd-afba45f6c5e2",
        "colab": {
          "base_uri": "https://localhost:8080/",
          "height": 1000
        }
      },
      "source": [
        "dir(whole_string)"
      ],
      "execution_count": 0,
      "outputs": [
        {
          "output_type": "execute_result",
          "data": {
            "text/plain": [
              "['__add__',\n",
              " '__class__',\n",
              " '__contains__',\n",
              " '__delattr__',\n",
              " '__dir__',\n",
              " '__doc__',\n",
              " '__eq__',\n",
              " '__format__',\n",
              " '__ge__',\n",
              " '__getattribute__',\n",
              " '__getitem__',\n",
              " '__getnewargs__',\n",
              " '__gt__',\n",
              " '__hash__',\n",
              " '__init__',\n",
              " '__init_subclass__',\n",
              " '__iter__',\n",
              " '__le__',\n",
              " '__len__',\n",
              " '__lt__',\n",
              " '__mod__',\n",
              " '__mul__',\n",
              " '__ne__',\n",
              " '__new__',\n",
              " '__reduce__',\n",
              " '__reduce_ex__',\n",
              " '__repr__',\n",
              " '__rmod__',\n",
              " '__rmul__',\n",
              " '__setattr__',\n",
              " '__sizeof__',\n",
              " '__str__',\n",
              " '__subclasshook__',\n",
              " 'capitalize',\n",
              " 'casefold',\n",
              " 'center',\n",
              " 'count',\n",
              " 'encode',\n",
              " 'endswith',\n",
              " 'expandtabs',\n",
              " 'find',\n",
              " 'format',\n",
              " 'format_map',\n",
              " 'index',\n",
              " 'isalnum',\n",
              " 'isalpha',\n",
              " 'isdecimal',\n",
              " 'isdigit',\n",
              " 'isidentifier',\n",
              " 'islower',\n",
              " 'isnumeric',\n",
              " 'isprintable',\n",
              " 'isspace',\n",
              " 'istitle',\n",
              " 'isupper',\n",
              " 'join',\n",
              " 'ljust',\n",
              " 'lower',\n",
              " 'lstrip',\n",
              " 'maketrans',\n",
              " 'partition',\n",
              " 'replace',\n",
              " 'rfind',\n",
              " 'rindex',\n",
              " 'rjust',\n",
              " 'rpartition',\n",
              " 'rsplit',\n",
              " 'rstrip',\n",
              " 'split',\n",
              " 'splitlines',\n",
              " 'startswith',\n",
              " 'strip',\n",
              " 'swapcase',\n",
              " 'title',\n",
              " 'translate',\n",
              " 'upper',\n",
              " 'zfill']"
            ]
          },
          "metadata": {
            "tags": []
          },
          "execution_count": 85
        }
      ]
    },
    {
      "cell_type": "code",
      "metadata": {
        "id": "4xdpdMnsE8bd",
        "colab_type": "code",
        "outputId": "ff750017-5bb2-4978-8cea-77de1e54f7cc",
        "colab": {
          "base_uri": "https://localhost:8080/",
          "height": 34
        }
      },
      "source": [
        "split_string = whole_string.split(' ')\n",
        "print(split_string)"
      ],
      "execution_count": 0,
      "outputs": [
        {
          "output_type": "stream",
          "text": [
            "['This', 'is', 'the', 'Ministry', 'of', 'Silly', 'Walks']\n"
          ],
          "name": "stdout"
        }
      ]
    },
    {
      "cell_type": "code",
      "metadata": {
        "id": "vjvbFcyiEln4",
        "colab_type": "code",
        "outputId": "974889b3-f60d-4620-a0a0-46b298432e94",
        "colab": {
          "base_uri": "https://localhost:8080/",
          "height": 34
        }
      },
      "source": [
        "# choose a method from the list above to fix the code in cell 15, so that it prints out \"This is all Very Official.\"\n",
        "# Note the syntax of using these methods - object.method(arguments)\n",
        "# Hint - Python is a case sensitive language, and you need to put it into lower case.  \n",
        "               #object.method(arguments)\n",
        "lower_string = whole_string.lower()\n",
        "print(lower_string)"
      ],
      "execution_count": 0,
      "outputs": [
        {
          "output_type": "stream",
          "text": [
            "this is the ministry of silly walks\n"
          ],
          "name": "stdout"
        }
      ]
    },
    {
      "cell_type": "markdown",
      "metadata": {
        "id": "Sskq4niFyKso",
        "colab_type": "text"
      },
      "source": [
        "## Lists\n",
        "\n",
        "Lists, like strings, are sequences.  Instead of elements consisting of a single character, list elemtents can be of any data type.\n",
        "\n",
        "Lists are mutable, and can be accessed by index, which means that what we know about slicing will be useful here.  \n",
        "\n",
        "There are a lot of methods associated with lists.  Try using the dir function to experiment.\n",
        "\n",
        "\n",
        "\n",
        "\n",
        "\n"
      ]
    },
    {
      "cell_type": "code",
      "metadata": {
        "id": "HstKKPIoSyTx",
        "colab_type": "code",
        "colab": {}
      },
      "source": [
        "# what methods are associated with list objects?\n",
        "dir()"
      ],
      "execution_count": 0,
      "outputs": []
    },
    {
      "cell_type": "markdown",
      "metadata": {
        "id": "rntd9qkdXiSV",
        "colab_type": "text"
      },
      "source": [
        "Lists can be nested, and can combine many different types of data into one list. "
      ]
    },
    {
      "cell_type": "code",
      "metadata": {
        "id": "xdEZu8eHyS9m",
        "colab_type": "code",
        "outputId": "ec8b9cab-b1a0-418d-c569-a3b7194006c1",
        "colab": {
          "base_uri": "https://localhost:8080/",
          "height": 87
        }
      },
      "source": [
        "types_list = ['strings', 14, ['inner list a', 'inner list b'], 3.145]\n",
        "for i in types_list:\n",
        "  print(i)"
      ],
      "execution_count": 0,
      "outputs": [
        {
          "output_type": "stream",
          "text": [
            "strings\n",
            "14\n",
            "['inner list a', 'inner list b']\n",
            "3.145\n"
          ],
          "name": "stdout"
        }
      ]
    },
    {
      "cell_type": "markdown",
      "metadata": {
        "id": "i7xeuj0ZZwso",
        "colab_type": "text"
      },
      "source": [
        ""
      ]
    },
    {
      "cell_type": "markdown",
      "metadata": {
        "id": "2miGDeaIYUl6",
        "colab_type": "text"
      },
      "source": [
        "Remember that lists are sequences, like strings, and so elements can be specified by integer index. "
      ]
    },
    {
      "cell_type": "code",
      "metadata": {
        "id": "NYR1_Bdn8MOq",
        "colab_type": "code",
        "outputId": "4bc1baa2-7577-4429-ea9c-b16e30377192",
        "colab": {
          "base_uri": "https://localhost:8080/",
          "height": 52
        }
      },
      "source": [
        "print(len(types_list))\n",
        "print(types_list[2])"
      ],
      "execution_count": 0,
      "outputs": [
        {
          "output_type": "stream",
          "text": [
            "4\n",
            "['inner list a', 'inner list b']\n"
          ],
          "name": "stdout"
        }
      ]
    },
    {
      "cell_type": "markdown",
      "metadata": {
        "id": "EJbNXlYYZQpF",
        "colab_type": "text"
      },
      "source": [
        "Unlike strings, lists are mutable and we can select an element by index to replace, or append elements to the list.  Using the built-in remove function, we can even remove an element from the list by name, rather than by index."
      ]
    },
    {
      "cell_type": "code",
      "metadata": {
        "id": "aLs5JjuDZXQ2",
        "colab_type": "code",
        "outputId": "b3966cf6-798f-46bf-de9c-7373e2a3c1bd",
        "colab": {
          "base_uri": "https://localhost:8080/",
          "height": 87
        }
      },
      "source": [
        "types_list[0] = 'I made a new string!'\n",
        "for i in types_list:\n",
        "  print(i)"
      ],
      "execution_count": 0,
      "outputs": [
        {
          "output_type": "stream",
          "text": [
            "I made a new string!\n",
            "14\n",
            "['inner list a', 'inner list b']\n",
            "3.145\n"
          ],
          "name": "stdout"
        }
      ]
    },
    {
      "cell_type": "code",
      "metadata": {
        "id": "NyJjWv9fZznw",
        "colab_type": "code",
        "outputId": "734ffdf1-8e15-4f57-81c4-706a060d281b",
        "colab": {
          "base_uri": "https://localhost:8080/",
          "height": 105
        }
      },
      "source": [
        "types_list.append('I am the appended string.')\n",
        "for i in types_list:\n",
        "  print(i)"
      ],
      "execution_count": 0,
      "outputs": [
        {
          "output_type": "stream",
          "text": [
            "I made a new string!\n",
            "14\n",
            "['inner list a', 'inner list b']\n",
            "3.145\n",
            "I am the appended string.\n"
          ],
          "name": "stdout"
        }
      ]
    },
    {
      "cell_type": "code",
      "metadata": {
        "id": "Egnu-VVpaExq",
        "colab_type": "code",
        "outputId": "0631d4d4-9aac-4ce1-b20c-1a9f58837c81",
        "colab": {
          "base_uri": "https://localhost:8080/",
          "height": 87
        }
      },
      "source": [
        "del(types_list[0])\n",
        "for i in types_list:\n",
        "  print(i)"
      ],
      "execution_count": 0,
      "outputs": [
        {
          "output_type": "stream",
          "text": [
            "14\n",
            "['inner list a', 'inner list b']\n",
            "3.145\n",
            "I am the appended string.\n"
          ],
          "name": "stdout"
        }
      ]
    },
    {
      "cell_type": "code",
      "metadata": {
        "id": "h42Q_qY0aLO9",
        "colab_type": "code",
        "outputId": "829ca7af-6d5a-4128-dfd7-c58896a6e302",
        "colab": {
          "base_uri": "https://localhost:8080/",
          "height": 70
        }
      },
      "source": [
        "types_list.remove(14) #deletes items in a list\n",
        "for i in types_list:\n",
        "  print(i)"
      ],
      "execution_count": 0,
      "outputs": [
        {
          "output_type": "stream",
          "text": [
            "['inner list a', 'inner list b']\n",
            "3.145\n",
            "I am the appended string.\n"
          ],
          "name": "stdout"
        }
      ]
    },
    {
      "cell_type": "code",
      "metadata": {
        "id": "ZKh9HCvjZ7zL",
        "colab_type": "code",
        "colab": {}
      },
      "source": [
        "# Code challenge - delete a list element by name and also by index.  \n",
        "#Then, add elements until the list contains 5 elements (the inner list counts as one element.)\n",
        "\n"
      ],
      "execution_count": 0,
      "outputs": []
    },
    {
      "cell_type": "code",
      "metadata": {
        "id": "nhJRjzZ9PSru",
        "colab_type": "code",
        "colab": {}
      },
      "source": [
        "# Lists, as sequences, and be sliced like strings.  \n",
        "#Print the first and elements of your list using slicing."
      ],
      "execution_count": 0,
      "outputs": []
    },
    {
      "cell_type": "markdown",
      "metadata": {
        "id": "EYDEL1gSzr7r",
        "colab_type": "text"
      },
      "source": [
        "## Dictionaries\n",
        "\n",
        "Dictionaries can be thought of as a mapping of key-value pairs.  In lists or strings, an integer index will refer to the element based on its position within the object.  In a dictionary, a key will point to a specific value irrespective of its position in the data structure.  Python dictionaries are unordered.  \n",
        "\n",
        "The `in` keyword is also useful for evaluating dictionary or values. Note that iterating over the elements of a dictionary works a bit differently, and we use the `items` function.  "
      ]
    },
    {
      "cell_type": "code",
      "metadata": {
        "id": "O2-d8IDqUK01",
        "colab_type": "code",
        "outputId": "9e1db9c9-1e6d-4330-902c-6763af2e3c1f",
        "colab": {
          "base_uri": "https://localhost:8080/",
          "height": 70
        }
      },
      "source": [
        "test_dict = {'apples': 3, 'bananas': 8, 'oranges': 2}\n",
        "for key, value in test_dict.items():\n",
        "  print(key, value)"
      ],
      "execution_count": 0,
      "outputs": [
        {
          "output_type": "stream",
          "text": [
            "apples 3\n",
            "bananas 8\n",
            "oranges 2\n"
          ],
          "name": "stdout"
        }
      ]
    },
    {
      "cell_type": "markdown",
      "metadata": {
        "id": "wO71OJBHVR8_",
        "colab_type": "text"
      },
      "source": [
        "Notice the syntax here.  Just as we would refer to the index of a string or list using an integer inside square brackets, we can refer to a dictionary key using the same form.  If the key does not exist, you will get a key error."
      ]
    },
    {
      "cell_type": "code",
      "metadata": {
        "id": "nSUOVVP2Uxmv",
        "colab_type": "code",
        "outputId": "47acfbd6-6af8-4fe4-c36b-47ab22c46f5e",
        "colab": {
          "base_uri": "https://localhost:8080/",
          "height": 34
        }
      },
      "source": [
        "if 'bananas' in test_dict:\n",
        "  print(test_dict['bananas'])"
      ],
      "execution_count": 0,
      "outputs": [
        {
          "output_type": "stream",
          "text": [
            "8\n"
          ],
          "name": "stdout"
        }
      ]
    },
    {
      "cell_type": "markdown",
      "metadata": {
        "id": "oYAeVBqmcrqS",
        "colab_type": "text"
      },
      "source": [
        "We can add key value pairs to the dictonary, delete key-value pairs, or change the value associated with a key."
      ]
    },
    {
      "cell_type": "code",
      "metadata": {
        "id": "JEcDSctMdn7B",
        "colab_type": "code",
        "colab": {}
      },
      "source": [
        "test_dict['grapes'] = 80"
      ],
      "execution_count": 0,
      "outputs": []
    },
    {
      "cell_type": "code",
      "metadata": {
        "id": "HBm0H_9kd3zZ",
        "colab_type": "code",
        "colab": {}
      },
      "source": [
        "test_dict['bananas'] = 6"
      ],
      "execution_count": 0,
      "outputs": []
    },
    {
      "cell_type": "code",
      "metadata": {
        "id": "L6CE1A24eOu2",
        "colab_type": "code",
        "colab": {}
      },
      "source": [
        "del(test_dict['oranges'])"
      ],
      "execution_count": 0,
      "outputs": []
    },
    {
      "cell_type": "code",
      "metadata": {
        "id": "3edpxuLHeSX4",
        "colab_type": "code",
        "outputId": "7e7d0fb8-a98a-44bc-ca89-48f8e935f3bd",
        "colab": {
          "base_uri": "https://localhost:8080/",
          "height": 34
        }
      },
      "source": [
        "print(test_dict)"
      ],
      "execution_count": 0,
      "outputs": [
        {
          "output_type": "stream",
          "text": [
            "{'apples': 3, 'bananas': 6, 'grapes': 80}\n"
          ],
          "name": "stdout"
        }
      ]
    },
    {
      "cell_type": "markdown",
      "metadata": {
        "id": "gakinCA50jnE",
        "colab_type": "text"
      },
      "source": [
        "## Files\n",
        "\n",
        "One of the strengths of Python is its handling of input and output operations.  Handling files is an important building block in understanding how I/O works.  \n",
        "\n",
        "We can open files, and then read, write, append, or read and write to a file using the following syntax:\n",
        "\n",
        "##### f = open(\"test.txt\", \"r\")\n",
        "##### f = open(\"test.txt\", \"w\")\n",
        "##### f = open(\"test.txt\", \"a\")\n",
        "##### f = open(\"test.txt\", \"r+\")\n",
        "\n",
        "if you use this syntax, make sure to close your file at the end of the script.  \n",
        "\n",
        "You may also see the syntax below using with, which is very common.  But be aware, that it will close the file at the end of the code block(the end of the indented section) so all operations must occur within the code block.\n"
      ]
    },
    {
      "cell_type": "code",
      "metadata": {
        "id": "p0aF-FaH-NT1",
        "colab_type": "code",
        "colab": {}
      },
      "source": [
        "'romeo.txt'\n",
        "But soft what light through yonder window breaks\n",
        "It is the east and Juliet is the sun\n",
        "Arise fair sun and kill the envious moon\n",
        "Who is already sick and pale with grief\n",
        "That thou her maid art far more fair than *she*"
      ],
      "execution_count": 0,
      "outputs": []
    },
    {
      "cell_type": "code",
      "metadata": {
        "id": "zI7yNKpif6wY",
        "colab_type": "code",
        "outputId": "f1747466-97b3-4b95-a048-8ffada9ba0d4",
        "colab": {
          "base_uri": "https://localhost:8080/",
          "height": 185
        }
      },
      "source": [
        "with open('romeo.txt', 'r') as text_data:\n",
        "  print(text_data.read())"
      ],
      "execution_count": 0,
      "outputs": [
        {
          "output_type": "error",
          "ename": "FileNotFoundError",
          "evalue": "ignored",
          "traceback": [
            "\u001b[0;31m---------------------------------------------------------------------------\u001b[0m",
            "\u001b[0;31mFileNotFoundError\u001b[0m                         Traceback (most recent call last)",
            "\u001b[0;32m<ipython-input-72-1534cdb098ce>\u001b[0m in \u001b[0;36m<module>\u001b[0;34m()\u001b[0m\n\u001b[0;32m----> 1\u001b[0;31m \u001b[0;32mwith\u001b[0m \u001b[0mopen\u001b[0m\u001b[0;34m(\u001b[0m\u001b[0;34m'romeo.txt'\u001b[0m\u001b[0;34m,\u001b[0m \u001b[0;34m'r'\u001b[0m\u001b[0;34m)\u001b[0m \u001b[0;32mas\u001b[0m \u001b[0mtext_data\u001b[0m\u001b[0;34m:\u001b[0m\u001b[0;34m\u001b[0m\u001b[0;34m\u001b[0m\u001b[0m\n\u001b[0m\u001b[1;32m      2\u001b[0m   \u001b[0mprint\u001b[0m\u001b[0;34m(\u001b[0m\u001b[0mtext_data\u001b[0m\u001b[0;34m.\u001b[0m\u001b[0mread\u001b[0m\u001b[0;34m(\u001b[0m\u001b[0;34m)\u001b[0m\u001b[0;34m)\u001b[0m\u001b[0;34m\u001b[0m\u001b[0;34m\u001b[0m\u001b[0m\n",
            "\u001b[0;31mFileNotFoundError\u001b[0m: [Errno 2] No such file or directory: 'romeo.txt'"
          ]
        }
      ]
    },
    {
      "cell_type": "code",
      "metadata": {
        "id": "2giQ_x41jIkB",
        "colab_type": "code",
        "colab": {}
      },
      "source": [
        "with open('romeo.txt', 'a') as text_data:\n",
        "  text_data.write(\"That thou her maid art far more fair than she\\n\")"
      ],
      "execution_count": 0,
      "outputs": []
    },
    {
      "cell_type": "code",
      "metadata": {
        "id": "Le4OfnqRlMOg",
        "colab_type": "code",
        "colab": {}
      },
      "source": [
        "# code challenge - print out the new file and make sure that the line appears.  "
      ],
      "execution_count": 0,
      "outputs": []
    },
    {
      "cell_type": "markdown",
      "metadata": {
        "id": "rkCem1XSfLC6",
        "colab_type": "text"
      },
      "source": [
        "There are a number of functions associated with files that allow us to manipulate data.  Consider the code block below.  "
      ]
    },
    {
      "cell_type": "code",
      "metadata": {
        "id": "6o50Zt18fcHM",
        "colab_type": "code",
        "outputId": "7404f7d5-1a07-4f0f-acd9-923ce580d453",
        "colab": {
          "base_uri": "https://localhost:8080/",
          "height": 51
        }
      },
      "source": [
        "with open('romeo.txt', 'r+') as text_data:\n",
        "  count = 0\n",
        "  for line in text_data:\n",
        "    if 'Juliet' in line:\n",
        "      print(line) "
      ],
      "execution_count": 0,
      "outputs": [
        {
          "output_type": "stream",
          "text": [
            "It is the east and Juliet is the sun\n",
            "\n"
          ],
          "name": "stdout"
        }
      ]
    },
    {
      "cell_type": "markdown",
      "metadata": {
        "id": "oTa3NqNii3xB",
        "colab_type": "text"
      },
      "source": [
        "It can be a good idea to include error handling in the form of a try/except statement when dealing with files.  The code below is a good example:"
      ]
    },
    {
      "cell_type": "code",
      "metadata": {
        "id": "-mU3tzobf-tn",
        "colab_type": "code",
        "outputId": "402fa3cd-c457-4d85-bfb3-886ba08fd369",
        "colab": {
          "base_uri": "https://localhost:8080/",
          "height": 34
        }
      },
      "source": [
        "try:\n",
        "  with open('none.txt', 'r+') as bad_text: #change name of file\n",
        "    for line in bad_text:\n",
        "      print(line)\n",
        "except IOError as e:   #when you don't want what your running to just stop when searching for something\n",
        "    print('No such file!')\n",
        "    exit()"
      ],
      "execution_count": 0,
      "outputs": [
        {
          "output_type": "stream",
          "text": [
            "No such file!\n"
          ],
          "name": "stdout"
        }
      ]
    },
    {
      "cell_type": "markdown",
      "metadata": {
        "colab_type": "text",
        "id": "Y25PZxKqV9Y0"
      },
      "source": [
        "## Fill in the Blank\n",
        "\n",
        "Look at the examples below.  Can you complete and run the block successfully?"
      ]
    },
    {
      "cell_type": "code",
      "metadata": {
        "id": "xlygRixXydxs",
        "colab_type": "code",
        "colab": {}
      },
      "source": [
        "# define a function that calculates total pay, including time and a half overtime pay\n",
        "# the function should accept two parameters, hours worked, and pay rate.\n",
        "\n",
        "def total_pay"
      ],
      "execution_count": 0,
      "outputs": []
    },
    {
      "cell_type": "code",
      "metadata": {
        "id": "1FlqEYH63aZc",
        "colab_type": "code",
        "outputId": "974e2bfa-3a28-4249-d62e-b3e0374c7931",
        "colab": {
          "base_uri": "https://localhost:8080/",
          "height": 35
        }
      },
      "source": [
        "# Given the list below, create a dictionary with a key of the list element, \n",
        "#and a value of the number of times it appears in the list\n",
        "repeat_list = [10, 71, 43, 10, 43, 10]\n",
        "my_dictionary = {}\n",
        "def create_dictionary(list):\n",
        "  for key in list:\n",
        "    counter = list.count(key)\n",
        "    my_dictionary.update({key:counter})\n",
        "  print(my_dictionary)\n",
        "\n",
        "create_dictionary(repeat_list)"
      ],
      "execution_count": 0,
      "outputs": [
        {
          "output_type": "stream",
          "text": [
            "{10: 3, 71: 1, 43: 2}\n"
          ],
          "name": "stdout"
        }
      ]
    },
    {
      "cell_type": "code",
      "metadata": {
        "id": "xrxsjcVXENTR",
        "colab_type": "code",
        "outputId": "bddc77a8-589f-469a-844b-5ead1a60f663",
        "colab": {
          "base_uri": "https://localhost:8080/",
          "height": 55
        }
      },
      "source": [
        "# given the file romeo.txt, read the file into a list\n",
        "\n",
        "\n",
        "with open('romeo.txt') as f:\n",
        "    lines = f.read().splitlines()\n",
        "\n",
        "print(lines)"
      ],
      "execution_count": 0,
      "outputs": [
        {
          "output_type": "stream",
          "text": [
            "['That thou her maid art far more fair than she', 'That thou her maid art far more fair than she', 'That thou her maid art far more fair than she']\n"
          ],
          "name": "stdout"
        }
      ]
    },
    {
      "cell_type": "code",
      "metadata": {
        "id": "J4bwxlw0gHJM",
        "colab_type": "code",
        "outputId": "addda528-efda-40ab-97ac-7dc83607754d",
        "colab": {
          "base_uri": "https://localhost:8080/",
          "height": 35
        }
      },
      "source": [
        "# given the file romeo.txt, count the number of times the word 'the' appears, and print\n",
        "def word_count(word):\n",
        "  f = open('romeo.txt', 'r').read()\n",
        "  f.count(word)\n",
        "\n",
        "print(word_count('thou'))"
      ],
      "execution_count": 0,
      "outputs": [
        {
          "output_type": "stream",
          "text": [
            "None\n"
          ],
          "name": "stdout"
        }
      ]
    },
    {
      "cell_type": "markdown",
      "metadata": {
        "id": "wFU3qwnAQsiL",
        "colab_type": "text"
      },
      "source": [
        "## Practice Challenge - CSV file to Dictionary\n",
        "\n",
        "Given the file phone_book.txt, read in the file and create a dictionary called phone_book where the key is the person's name, and the value is their phone number.  \n",
        "\n",
        "Then, define a function that will accept a name as the argument, and return the phone number.  If the number is not in the phone book, then the function should print a message to that effect.  \n",
        "\n"
      ]
    },
    {
      "cell_type": "markdown",
      "metadata": {
        "id": "JeOllcKTJ77X",
        "colab_type": "text"
      },
      "source": [
        "## Next Month: \n",
        "Tuples, Sets, Regular Expressions, and Networked Programs (Chapters 10, 11, and 12)\n",
        "\n",
        "### Resources:\n",
        "* [The book](http://do1.dr-chuck.com/pythonlearn/EN_us/pythonlearn.pdf)\n",
        "* [Python Tutorial](https://docs.python.org/3/tutorial/)\n"
      ]
    }
  ]
}